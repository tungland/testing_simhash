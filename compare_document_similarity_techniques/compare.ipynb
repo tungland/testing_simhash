{
 "cells": [
  {
   "cell_type": "code",
   "execution_count": 26,
   "metadata": {},
   "outputs": [],
   "source": [
    "import pandas as pd\n",
    "from myfuncs import deduplicate\n",
    "from scipy.spatial.distance import hamming"
   ]
  },
  {
   "cell_type": "code",
   "execution_count": 10,
   "metadata": {},
   "outputs": [],
   "source": [
    "dct = dict()\n",
    "dct[\"simhash\"] = pd.read_csv(\"data/simhash_distance.csv\", index_col=0)\n",
    "dct[\"jacc\"] = pd.read_csv(\"data/jaccard_distance.csv\", index_col=0)\n",
    "dct[\"tfidf\"] = pd.read_csv(\"data/tf_idf.csv\", index_col=0)\n",
    "dct[\"d2v\"] = pd.read_csv(\"data/doc2vec_cosine_distance.csv\", index_col=0)\n",
    "dct[\"sbert\"] = pd.read_csv(\"data/sbert.csv\", index_col=0)"
   ]
  },
  {
   "cell_type": "code",
   "execution_count": 13,
   "metadata": {},
   "outputs": [],
   "source": [
    "klst = list(dct.keys())"
   ]
  },
  {
   "cell_type": "code",
   "execution_count": 19,
   "metadata": {},
   "outputs": [],
   "source": [
    "odct = dict()\n",
    "for x in klst:\n",
    "    y = deduplicate(dct[x])\n",
    "    if x == \"simhash\":\n",
    "        y = y.stack().sort_values(ascending=True)\n",
    "    else:\n",
    "        y = y.stack().sort_values(ascending=False)\n",
    "    odct[x] = y"
   ]
  },
  {
   "cell_type": "code",
   "execution_count": 20,
   "metadata": {},
   "outputs": [
    {
     "data": {
      "text/plain": [
       "9008985   9229598      1.0\n",
       "9372822   9841568      1.0\n",
       "8529357   9229598      2.0\n",
       "9008985   8529357      3.0\n",
       "9474991   9841568      3.0\n",
       "                      ... \n",
       "3658319   2828382     43.0\n",
       "15814957  2828382     43.0\n",
       "31035     15419425    44.0\n",
       "3384362   4498255     44.0\n",
       "3949397   15762651    45.0\n",
       "Length: 19900, dtype: float64"
      ]
     },
     "execution_count": 20,
     "metadata": {},
     "output_type": "execute_result"
    }
   ],
   "source": [
    "odct[klst[0]]"
   ]
  },
  {
   "cell_type": "code",
   "execution_count": 37,
   "metadata": {},
   "outputs": [],
   "source": [
    "def jaccard(set1, set2):\n",
    "    return len(set1.intersection(set2)) / len(set1.union(set2))"
   ]
  },
  {
   "cell_type": "code",
   "execution_count": 49,
   "metadata": {},
   "outputs": [
    {
     "name": "stdout",
     "output_type": "stream",
     "text": [
      "simhash - simhash :  1.0\n",
      "simhash - jacc :  0.043478260869565216\n",
      "simhash - tfidf :  0.1\n",
      "simhash - d2v :  0.0\n",
      "simhash - sbert :  0.09090909090909091\n",
      "\n",
      "\n",
      "jacc - simhash :  0.043478260869565216\n",
      "jacc - jacc :  1.0\n",
      "jacc - tfidf :  0.5384615384615384\n",
      "jacc - d2v :  0.0\n",
      "jacc - sbert :  0.5714285714285714\n",
      "\n",
      "\n",
      "tfidf - simhash :  0.1\n",
      "tfidf - jacc :  0.5384615384615384\n",
      "tfidf - tfidf :  1.0\n",
      "tfidf - d2v :  0.0\n",
      "tfidf - sbert :  0.5384615384615384\n",
      "\n",
      "\n",
      "d2v - simhash :  0.0\n",
      "d2v - jacc :  0.0\n",
      "d2v - tfidf :  0.0\n",
      "d2v - d2v :  1.0\n",
      "d2v - sbert :  0.0\n",
      "\n",
      "\n",
      "sbert - simhash :  0.09090909090909091\n",
      "sbert - jacc :  0.5714285714285714\n",
      "sbert - tfidf :  0.5384615384615384\n",
      "sbert - d2v :  0.0\n",
      "sbert - sbert :  1.0\n",
      "\n",
      "\n"
     ]
    }
   ],
   "source": [
    "for x in klst:\n",
    "    for y in klst:\n",
    "        a = set(odct[x].iloc[:20].reset_index().iloc[:, 0].values)\n",
    "        b = set(odct[y].iloc[:20].reset_index().iloc[:, 0].values)\n",
    "        print(f\"{x} - {y} : \", jaccard(a, b)) \n",
    "    print(\"\\n\")"
   ]
  },
  {
   "cell_type": "code",
   "execution_count": 52,
   "metadata": {},
   "outputs": [
    {
     "name": "stdout",
     "output_type": "stream",
     "text": [
      "simhash {8529357, 9474991, 5662772, 5718645, 9372822, 9008985, 25030332}\n",
      "jacc {9841568, 387714, 9726185, 2123753, 8529357, 211444, 9229598}\n",
      "tfidf {9841568, 387714, 2123753, 8529357, 9372822, 9229598}\n",
      "d2v {4985349, 9115433, 1494234, 554765, 180782, 2276817, 21222099, 723700, 23682970}\n",
      "sbert {387714, 9726185, 2123753, 8529357, 9193597, 9229598}\n"
     ]
    }
   ],
   "source": [
    "\n",
    "for x in klst:\n",
    "    y = odct[x].iloc[:10].reset_index().iloc[:, 0]\n",
    "    \n",
    "    print(x, set(y))"
   ]
  },
  {
   "cell_type": "code",
   "execution_count": null,
   "metadata": {},
   "outputs": [],
   "source": []
  }
 ],
 "metadata": {
  "interpreter": {
   "hash": "93dd231417b5153e211227ddef93e7bac20bb103d28b17be81cece4336fdc5da"
  },
  "kernelspec": {
   "display_name": "Python 3.9.7 ('nlpenv')",
   "language": "python",
   "name": "python3"
  },
  "language_info": {
   "codemirror_mode": {
    "name": "ipython",
    "version": 3
   },
   "file_extension": ".py",
   "mimetype": "text/x-python",
   "name": "python",
   "nbconvert_exporter": "python",
   "pygments_lexer": "ipython3",
   "version": "3.9.7"
  },
  "orig_nbformat": 4
 },
 "nbformat": 4,
 "nbformat_minor": 2
}
