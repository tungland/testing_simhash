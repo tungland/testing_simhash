{
 "cells": [
  {
   "cell_type": "code",
   "execution_count": 5,
   "metadata": {},
   "outputs": [],
   "source": [
    "import psycopg2 as ps\n",
    "import pandas as pd\n",
    "import random as rm\n",
    "from copy import copy\n",
    "import glob"
   ]
  },
  {
   "cell_type": "markdown",
   "metadata": {},
   "source": [
    "Download data from maalfrid_prod"
   ]
  },
  {
   "cell_type": "code",
   "execution_count": 2,
   "metadata": {},
   "outputs": [],
   "source": [
    "conn = ps.connect(dbname=\"maalfrid_prod\", user=\"larsm\", password=\"sprakbank\", host=\"localhost\", port=\"5434\")\n",
    "\n",
    "def query(q, conn = conn):\n",
    "    return pd.read_sql(q, conn)"
   ]
  },
  {
   "cell_type": "code",
   "execution_count": 3,
   "metadata": {},
   "outputs": [],
   "source": [
    "# Get 100 random id's from each scraping\n",
    "# maal1 = query(\"select * from paths_maalfrid_1 ORDER BY random() LIMIT 100\")\n",
    "# maal2 = query(\"select * from paths_maalfrid_3 ORDER BY random() LIMIT 100\")\n",
    "# maal1.to_csv(\"data/maalfrid_1_sample.csv\")\n",
    "# maal2.to_csv(\"data/maalfrid_2_sample.csv\")"
   ]
  },
  {
   "cell_type": "code",
   "execution_count": 6,
   "metadata": {},
   "outputs": [],
   "source": [
    "dct = {}\n",
    "names = [\"maal1\", \"maal2\"]\n",
    "\n",
    "for name, path in zip(names, sorted(glob.glob(\"data/*\"))):\n",
    "    dct[name] = {\"ids\" : pd.read_csv(path, index_col=0) }"
   ]
  },
  {
   "cell_type": "code",
   "execution_count": 8,
   "metadata": {},
   "outputs": [],
   "source": [
    "for i in dct.keys():\n",
    "    lst = \", \".join([str(x) for x in dct[i][\"ids\"].fulltext_id.values])\n",
    "    df = query(\"SELECT * FROM fulltext WHERE fulltext_id in ({})\".format(lst))\n",
    "    dct[i].update({\"texts\" : df})\n",
    "    df.to_csv(f\"data/{i}_fulltext.csv\")"
   ]
  },
  {
   "cell_type": "code",
   "execution_count": 10,
   "metadata": {},
   "outputs": [],
   "source": [
    "for i in dct.keys():\n",
    "    lst = \", \".join([str(x) for x in dct[i][\"ids\"].fulltext_id.values])\n",
    "    df = query(\"SELECT * FROM simhash WHERE fulltext_id in ({})\".format(lst))\n",
    "    dct[i].update({\"simhash\" : df})\n",
    "    df.to_csv(f\"data/{i}_simhash.csv\")"
   ]
  },
  {
   "cell_type": "code",
   "execution_count": null,
   "metadata": {},
   "outputs": [],
   "source": []
  }
 ],
 "metadata": {
  "interpreter": {
   "hash": "fc608861a0cd3409e9d23aa9ddfb5bf7eb827f8bbcfcc7f1ecae791c106b2c3c"
  },
  "kernelspec": {
   "display_name": "Python 3.9.7 ('my_conda')",
   "language": "python",
   "name": "python3"
  },
  "language_info": {
   "codemirror_mode": {
    "name": "ipython",
    "version": 3
   },
   "file_extension": ".py",
   "mimetype": "text/x-python",
   "name": "python",
   "nbconvert_exporter": "python",
   "pygments_lexer": "ipython3",
   "version": "3.9.7"
  },
  "orig_nbformat": 4
 },
 "nbformat": 4,
 "nbformat_minor": 2
}
