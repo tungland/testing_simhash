{
 "cells": [
  {
   "cell_type": "code",
   "execution_count": 1,
   "metadata": {},
   "outputs": [],
   "source": [
    "import pandas as pd\n",
    "import glob\n",
    "from gensim.models.doc2vec import Doc2Vec, TaggedDocument\n",
    "from scipy import spatial\n",
    "from myfuncs import my_tokenizer"
   ]
  },
  {
   "cell_type": "code",
   "execution_count": 2,
   "metadata": {},
   "outputs": [],
   "source": [
    "paths = glob.glob(\"data/*_fulltext.csv\")\n",
    "lst = []\n",
    "for x in paths:\n",
    "    df = pd.read_csv(x, index_col=0)\n",
    "    lst +=  [df]\n",
    "    \n",
    "df = pd.concat(lst).reset_index(drop = True)\n",
    "df[\"tokens\"] = df[\"fulltext\"].apply(my_tokenizer)\n"
   ]
  },
  {
   "cell_type": "code",
   "execution_count": 3,
   "metadata": {},
   "outputs": [],
   "source": [
    "docs = df.set_index(\"fulltext_id\").loc[:, \"tokens\"].to_dict()"
   ]
  },
  {
   "cell_type": "code",
   "execution_count": 4,
   "metadata": {},
   "outputs": [],
   "source": [
    "documents = []\n",
    "for key in docs:\n",
    "    documents += [TaggedDocument(docs[key], [str(key)])]"
   ]
  },
  {
   "cell_type": "code",
   "execution_count": 5,
   "metadata": {},
   "outputs": [],
   "source": [
    "model = Doc2Vec(documents, vector_size=5, window=2, min_count=1, workers=4)"
   ]
  },
  {
   "cell_type": "code",
   "execution_count": 6,
   "metadata": {},
   "outputs": [],
   "source": [
    "bigdct = {}\n",
    "for key in docs.keys():\n",
    "    #print(key)\n",
    "    vec = model.dv[str(key)]\n",
    "    #print(vec)\n",
    "    bigdct[key] = {\"vec\" : vec}\n"
   ]
  },
  {
   "cell_type": "code",
   "execution_count": 7,
   "metadata": {},
   "outputs": [],
   "source": [
    "vdf = pd.DataFrame.from_dict(bigdct, orient='index')"
   ]
  },
  {
   "cell_type": "code",
   "execution_count": 8,
   "metadata": {},
   "outputs": [],
   "source": [
    "dct = {}\n",
    "for x1, y1 in vdf.iterrows():\n",
    "    for x2, y2 in vdf.iterrows():\n",
    "        #print(x1, x2)\n",
    "        #print(y1[0], y2[0])\n",
    "        #print(1 - spatial.distance.cosine(y1[0], y2[0]))\n",
    "        if x1 in dct.keys():\n",
    "            dct[x1].update({x2 : (1 - spatial.distance.cosine(y1[0], y2[0]))})\n",
    "        else:\n",
    "            dct[x1] = {x2 : (1 - spatial.distance.cosine(y1[0], y2[0]))}"
   ]
  },
  {
   "cell_type": "code",
   "execution_count": 9,
   "metadata": {},
   "outputs": [],
   "source": [
    "distance_df = pd.DataFrame(dct)"
   ]
  },
  {
   "cell_type": "code",
   "execution_count": 11,
   "metadata": {},
   "outputs": [],
   "source": [
    "distance_df.to_csv(\"data/doc2vec_cosine_distance.csv\")"
   ]
  },
  {
   "cell_type": "code",
   "execution_count": null,
   "metadata": {},
   "outputs": [],
   "source": []
  }
 ],
 "metadata": {
  "interpreter": {
   "hash": "fc608861a0cd3409e9d23aa9ddfb5bf7eb827f8bbcfcc7f1ecae791c106b2c3c"
  },
  "kernelspec": {
   "display_name": "Python 3.9.7 ('my_conda')",
   "language": "python",
   "name": "python3"
  },
  "language_info": {
   "codemirror_mode": {
    "name": "ipython",
    "version": 3
   },
   "file_extension": ".py",
   "mimetype": "text/x-python",
   "name": "python",
   "nbconvert_exporter": "python",
   "pygments_lexer": "ipython3",
   "version": "3.9.7"
  },
  "orig_nbformat": 4
 },
 "nbformat": 4,
 "nbformat_minor": 2
}
