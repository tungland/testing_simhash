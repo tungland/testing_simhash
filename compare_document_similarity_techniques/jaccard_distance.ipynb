{
 "cells": [
  {
   "cell_type": "code",
   "execution_count": 1,
   "metadata": {},
   "outputs": [],
   "source": [
    "\n",
    "import pandas as pd\n",
    "import glob\n",
    "import numpy as np\n",
    "import re\n",
    "from myfuncs import my_tokenizer"
   ]
  },
  {
   "cell_type": "code",
   "execution_count": 2,
   "metadata": {},
   "outputs": [],
   "source": [
    "def jaccard(a, b):\n",
    "    a = set(a)\n",
    "    b = set(b)\n",
    "    \n",
    "    return (len(a.intersection(b))) / (len(a.union(b)))\n",
    "    "
   ]
  },
  {
   "cell_type": "markdown",
   "metadata": {},
   "source": [
    "Calculate jaccard distance for maalfrid documents"
   ]
  },
  {
   "cell_type": "code",
   "execution_count": 3,
   "metadata": {},
   "outputs": [],
   "source": [
    "paths = glob.glob(\"data/*_fulltext.csv\")"
   ]
  },
  {
   "cell_type": "code",
   "execution_count": 4,
   "metadata": {},
   "outputs": [],
   "source": [
    "lst = []\n",
    "for x in paths:\n",
    "    df = pd.read_csv(x, index_col=0)\n",
    "    lst +=  [df]\n",
    "    \n",
    "df = pd.concat(lst).reset_index(drop = True)"
   ]
  },
  {
   "cell_type": "code",
   "execution_count": 5,
   "metadata": {},
   "outputs": [],
   "source": [
    "df[\"tokens\"] = df[\"fulltext\"].apply(my_tokenizer)"
   ]
  },
  {
   "cell_type": "code",
   "execution_count": 6,
   "metadata": {},
   "outputs": [],
   "source": [
    "arr = df[\"tokens\"].to_numpy()"
   ]
  },
  {
   "cell_type": "code",
   "execution_count": 7,
   "metadata": {},
   "outputs": [],
   "source": [
    "# Get matrix of jaccard values\n",
    "\n",
    "xlst = []\n",
    "for i, x in enumerate(arr):\n",
    "    ylst = []\n",
    "    for j, y in enumerate(arr):\n",
    "            \n",
    "            j = jaccard(x, y)\n",
    "            ylst += [j]\n",
    "    xlst += [ylst]   \n",
    "    \n",
    "df1 = pd.DataFrame(xlst, columns=df.fulltext_id, index=df.fulltext_id)  \n",
    "df1.to_csv(\"data/jaccard_distance.csv\")      "
   ]
  },
  {
   "cell_type": "markdown",
   "metadata": {},
   "source": [
    "# Matrix of jaccard values, but without duplicates\n",
    "\n",
    "tuple_lst = []\n",
    "xlst = []\n",
    "for i, x in enumerate(arr):\n",
    "    ylst = []\n",
    "    for j, y in enumerate(arr):\n",
    "            if (i , j) in tuple_lst:\n",
    "                continue\n",
    "            elif (j, i) in tuple_lst:\n",
    "                ylst += [np.nan]\n",
    "            else:\n",
    "                jacc = jaccard(x, y)\n",
    "                ylst += [jacc]\n",
    "                tuple_lst += [(i , j)]\n",
    "    xlst += [ylst] \n",
    "    \n",
    "df2 = pd.DataFrame(xlst, columns=df.fulltext_id, index=df.fulltext_id)    "
   ]
  },
  {
   "cell_type": "code",
   "execution_count": 8,
   "metadata": {},
   "outputs": [],
   "source": [
    "#jdf = df2.stack().to_frame(\"jaccard\")"
   ]
  },
  {
   "cell_type": "code",
   "execution_count": 9,
   "metadata": {},
   "outputs": [],
   "source": [
    "#jdf.loc[jdf.jaccard != 1].sort_values(\"jaccard\", ascending=False).to_csv(\"data/jaccard_distance.csv\")"
   ]
  }
 ],
 "metadata": {
  "interpreter": {
   "hash": "db334dff8f1c5d7e42c8d4204e45191c3023c058706673d1df80c18ef4a1d853"
  },
  "kernelspec": {
   "display_name": "Python 3.8.10 ('env38': venv)",
   "language": "python",
   "name": "python3"
  },
  "language_info": {
   "codemirror_mode": {
    "name": "ipython",
    "version": 3
   },
   "file_extension": ".py",
   "mimetype": "text/x-python",
   "name": "python",
   "nbconvert_exporter": "python",
   "pygments_lexer": "ipython3",
   "version": "3.8.10"
  },
  "orig_nbformat": 4
 },
 "nbformat": 4,
 "nbformat_minor": 2
}
