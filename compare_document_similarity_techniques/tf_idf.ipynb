{
 "cells": [
  {
   "cell_type": "code",
   "execution_count": 26,
   "metadata": {},
   "outputs": [],
   "source": [
    "import myfuncs as mf, pandas as pd, numpy as np, copy as c, spacy, glob\n",
    "\n",
    "from sklearn.feature_extraction.text import CountVectorizer,TfidfVectorizer"
   ]
  },
  {
   "cell_type": "code",
   "execution_count": 2,
   "metadata": {},
   "outputs": [],
   "source": [
    "from myfuncs import my_tokenizer, deduplicate"
   ]
  },
  {
   "cell_type": "code",
   "execution_count": 3,
   "metadata": {},
   "outputs": [],
   "source": [
    "paths = glob.glob(\"data/*_fulltext.csv\")\n",
    "lst = []\n",
    "for x in paths:\n",
    "    df = pd.read_csv(x, index_col=0)\n",
    "    lst +=  [df]\n",
    "    \n",
    "df = pd.concat(lst).reset_index(drop = True)\n",
    "df[\"tokens\"] = df[\"fulltext\"].apply(my_tokenizer)"
   ]
  },
  {
   "cell_type": "code",
   "execution_count": 4,
   "metadata": {},
   "outputs": [],
   "source": [
    "docs = df.set_index(\"fulltext_id\").loc[:, \"tokens\"].to_dict()"
   ]
  },
  {
   "cell_type": "code",
   "execution_count": 13,
   "metadata": {},
   "outputs": [
    {
     "data": {
      "text/plain": [
       "'Verdal kommune Innbyggertall 14.162 * Flateareal 1.547 km²\\nVerran kommune Innbyggertall 2.937 * Flateareal 601 km²\\nDette er utskriftsversjon av https://www.landbruksforum.no/innherred/info/index.php?viskommune=inder%C3%83%C2%83%C3%82%C2%83%C3%83%C2%82%C3%82%C2%83%C3%83%C2%83%C3%82%C2%82%C3%83%C2%82%C3%82%C2%B8y&vis_o_id=5&vis=innherredlandbruksforum&lang=bok&tema_id=4&spm_id=17'"
      ]
     },
     "execution_count": 13,
     "metadata": {},
     "output_type": "execute_result"
    }
   ],
   "source": [
    "df[\"fulltext\"].values[1]"
   ]
  },
  {
   "cell_type": "code",
   "execution_count": null,
   "metadata": {},
   "outputs": [],
   "source": []
  },
  {
   "cell_type": "code",
   "execution_count": 9,
   "metadata": {},
   "outputs": [],
   "source": [
    "vectorizer = CountVectorizer()"
   ]
  },
  {
   "cell_type": "code",
   "execution_count": 22,
   "metadata": {},
   "outputs": [],
   "source": [
    "X = vectorizer.fit_transform(df[\"fulltext\"])"
   ]
  },
  {
   "cell_type": "code",
   "execution_count": 15,
   "metadata": {},
   "outputs": [],
   "source": [
    "analyze = vectorizer.build_analyzer()"
   ]
  },
  {
   "cell_type": "code",
   "execution_count": 28,
   "metadata": {},
   "outputs": [],
   "source": [
    "tfidf_vector = TfidfVectorizer(tokenizer = my_tokenizer)"
   ]
  },
  {
   "cell_type": "code",
   "execution_count": 29,
   "metadata": {},
   "outputs": [],
   "source": [
    "from sklearn.model_selection import train_test_split"
   ]
  },
  {
   "cell_type": "code",
   "execution_count": 31,
   "metadata": {},
   "outputs": [],
   "source": [
    "X = df['fulltext'] # the features we want to analyze\n",
    "ylabels = df.index # the labels, or answers, we want to test against\n",
    "\n",
    "X_train, X_test, y_train, y_test = train_test_split(X, ylabels, test_size=0.3)"
   ]
  },
  {
   "cell_type": "code",
   "execution_count": 67,
   "metadata": {},
   "outputs": [
    {
     "data": {
      "text/plain": [
       "array([0.01425542])"
      ]
     },
     "execution_count": 67,
     "metadata": {},
     "output_type": "execute_result"
    }
   ],
   "source": [
    "from sklearn.feature_extraction.text import TfidfVectorizer\n",
    "from sklearn.metrics.pairwise import cosine_similarity\n",
    "base_document = df.fulltext[0]\n",
    "documents = [df.fulltext[1]]\n",
    "\n",
    "#def process_tfidf_similarity():\n",
    "vectorizer = TfidfVectorizer()\n",
    "\n",
    "# To make uniformed vectors, both documents need to be combined first.\n",
    "documents.insert(0, base_document)\n",
    "embeddings = vectorizer.fit_transform(documents)\n",
    "\n",
    "cosine_similarities = cosine_similarity(embeddings[0:1], embeddings[1:]).flatten()\n",
    "\n",
    "cosine_similarities"
   ]
  },
  {
   "cell_type": "code",
   "execution_count": 59,
   "metadata": {},
   "outputs": [
    {
     "data": {
      "text/plain": [
       "array([0.01425542])"
      ]
     },
     "execution_count": 59,
     "metadata": {},
     "output_type": "execute_result"
    }
   ],
   "source": [
    "cosine_similarities"
   ]
  },
  {
   "cell_type": "code",
   "execution_count": 58,
   "metadata": {},
   "outputs": [
    {
     "data": {
      "text/plain": [
       "(<1x302 sparse matrix of type '<class 'numpy.float64'>'\n",
       " \twith 267 stored elements in Compressed Sparse Row format>,\n",
       " <1x302 sparse matrix of type '<class 'numpy.float64'>'\n",
       " \twith 38 stored elements in Compressed Sparse Row format>)"
      ]
     },
     "execution_count": 58,
     "metadata": {},
     "output_type": "execute_result"
    }
   ],
   "source": [
    "embeddings[0:1], embeddings[1:]"
   ]
  },
  {
   "cell_type": "code",
   "execution_count": 41,
   "metadata": {},
   "outputs": [
    {
     "data": {
      "text/plain": [
       "array([[0.01425542]])"
      ]
     },
     "execution_count": 41,
     "metadata": {},
     "output_type": "execute_result"
    }
   ],
   "source": [
    "cosine_similarities"
   ]
  },
  {
   "cell_type": "code",
   "execution_count": 47,
   "metadata": {},
   "outputs": [
    {
     "data": {
      "text/plain": [
       "['nynorsk',\n",
       " 'opplæringa',\n",
       " '2',\n",
       " 'primært',\n",
       " 'retta',\n",
       " 'lærarar',\n",
       " 'underviser',\n",
       " 'grunnopplæringa',\n",
       " 'nyttig',\n",
       " 'heve',\n",
       " 'nynorskkompetansen',\n",
       " 'emnet',\n",
       " 'eit',\n",
       " 'praktisk',\n",
       " 'undervisningsorientert',\n",
       " 'perspektiv',\n",
       " 'auka',\n",
       " 'kompetanse',\n",
       " 'nynorsk',\n",
       " 'undervise',\n",
       " 'målet',\n",
       " 'studiet',\n",
       " 'studentane',\n",
       " 'drive',\n",
       " 'opplæring',\n",
       " 'nynorsk',\n",
       " 'nivå',\n",
       " 'grunnopplæringa',\n",
       " 'tråd',\n",
       " 'intensjonane',\n",
       " 'læreplanen',\n",
       " 'studentane',\n",
       " 'utvikle',\n",
       " 'eigenkompetanse',\n",
       " 'nynorsk',\n",
       " 'vurdere',\n",
       " 'vidareutvikle',\n",
       " 'eigen',\n",
       " 'undervisningspraksis',\n",
       " 'nynorsk',\n",
       " 'høve',\n",
       " 'læreplanen',\n",
       " 'kjenne',\n",
       " 'bruke',\n",
       " 'relevant',\n",
       " 'fagleg',\n",
       " 'fagdidaktisk',\n",
       " 'teori',\n",
       " 'nynorsk',\n",
       " 'opplæringa',\n",
       " '2',\n",
       " 'no122',\n",
       " 'eit',\n",
       " 'kultur',\n",
       " 'danningsperspektiv',\n",
       " 'det',\n",
       " 'didaktiske',\n",
       " 'perspektivet',\n",
       " 'gjennomgåande',\n",
       " 'studiet',\n",
       " 'læringsutbytte',\n",
       " 'i',\n",
       " 'samsvar',\n",
       " 'nasjonale',\n",
       " 'kvalifikasjonsrammeverket',\n",
       " 'studenten',\n",
       " 'følgjande',\n",
       " 'læringsutbytte',\n",
       " 'fullført',\n",
       " 'emne',\n",
       " 'ved',\n",
       " 'fullføring',\n",
       " 'emnet',\n",
       " 'studenten',\n",
       " 'kunnskap',\n",
       " 'studenten',\n",
       " 'analysere',\n",
       " 'reflektere',\n",
       " 'læraren',\n",
       " 'si',\n",
       " 'rolle',\n",
       " 'modell',\n",
       " 'formidlar',\n",
       " 'rettleiar',\n",
       " 'ein',\n",
       " 'språksituasjon',\n",
       " 'ulike',\n",
       " 'språkformer',\n",
       " 'kulturelt',\n",
       " 'mangfald',\n",
       " 'bruke',\n",
       " 'ikt',\n",
       " 'undervisninga',\n",
       " 'fagleg',\n",
       " 'didaktisk',\n",
       " 'utvikle',\n",
       " 'eigen',\n",
       " 'nynorske',\n",
       " 'tekst',\n",
       " 'språkkompetanse',\n",
       " 'eiga',\n",
       " 'skriving',\n",
       " 'praktisk',\n",
       " 'organisering',\n",
       " 'arbeidsmåtar',\n",
       " 'undervisninga',\n",
       " 'organisert',\n",
       " 'læringsplattforma',\n",
       " 'canvas',\n",
       " 'det',\n",
       " 'ein',\n",
       " 'føresetnad',\n",
       " 'studenten',\n",
       " 'disponerer',\n",
       " 'datamaskin',\n",
       " 'nett',\n",
       " 'tilkopling',\n",
       " 'programvare',\n",
       " 'tekstbehandling',\n",
       " 'emnet',\n",
       " 'delt',\n",
       " 'hovudområde',\n",
       " 'introduserte',\n",
       " 'nettleksjonar',\n",
       " 'fordelt',\n",
       " 'eitt',\n",
       " 'semester',\n",
       " 'kvart',\n",
       " 'hovudområde',\n",
       " 'ein',\n",
       " 'eigen',\n",
       " 'fagleg',\n",
       " 'profil',\n",
       " 'tilhøyrande',\n",
       " 'pensumlitteratur',\n",
       " 'arbeidskrav',\n",
       " 'denne',\n",
       " 'organiseringa',\n",
       " 'sikrar',\n",
       " 'òg',\n",
       " 'koordinering',\n",
       " 'faglege',\n",
       " 'progresjonen',\n",
       " 'studiet',\n",
       " 'kvar',\n",
       " 'student',\n",
       " 'vurderer',\n",
       " 'kva',\n",
       " 'oppgåve',\n",
       " 'ho',\n",
       " 'arbeide',\n",
       " 'vidare',\n",
       " 'utvide',\n",
       " 'levere',\n",
       " 'vurderingsmappa',\n",
       " 'studiet',\n",
       " 'gjennomgåande',\n",
       " 'didaktisk',\n",
       " 'teke',\n",
       " 'bruk',\n",
       " 'varierte',\n",
       " 'læremiddel',\n",
       " 'studentane',\n",
       " 'tileigne',\n",
       " 'emnet',\n",
       " 'lesing',\n",
       " 'pensum',\n",
       " 'sjølvstudium',\n",
       " 'skriftleg',\n",
       " 'refleksjon',\n",
       " 'studentane',\n",
       " 'rettleiing',\n",
       " 'vurdering',\n",
       " 'produkta',\n",
       " 'vert',\n",
       " 'lagt',\n",
       " 'mapper',\n",
       " 'endeleg',\n",
       " 'vurdering',\n",
       " 'vere',\n",
       " 'resultat',\n",
       " 'ein',\n",
       " 'prosess',\n",
       " 'medstudentar',\n",
       " 'vore',\n",
       " 'rettleiarar',\n",
       " 'studentane',\n",
       " 'utvikle',\n",
       " 'eigen',\n",
       " 'rettleiingskompetanse',\n",
       " 'rettleie',\n",
       " 'kvarandre',\n",
       " 'det',\n",
       " 'lagt',\n",
       " 'vekt',\n",
       " 'skape',\n",
       " 'eit',\n",
       " 'læringsmiljø',\n",
       " 'studentane',\n",
       " 'lærer',\n",
       " 'aktiv',\n",
       " 'deltaking',\n",
       " 'samhandling',\n",
       " 'nettbaserte',\n",
       " 'diskusjonsgrupper',\n",
       " 'e',\n",
       " 'post',\n",
       " 'vevtenester',\n",
       " 'viktige',\n",
       " 'komponentar',\n",
       " 'studiet',\n",
       " 'nettleksjonane',\n",
       " 'skriftlege',\n",
       " 'utdjupingar',\n",
       " 'kommentarar',\n",
       " 'inngår',\n",
       " 'pensumlitteraturen',\n",
       " 'i',\n",
       " 'ein',\n",
       " 'undervisningsressursen',\n",
       " 'brukt',\n",
       " 'elektronisk',\n",
       " 'rettleiing',\n",
       " 'individuelt',\n",
       " 'grupper',\n",
       " 'vilkår',\n",
       " 'framstille',\n",
       " 'eksamen',\n",
       " 'til',\n",
       " 'kvart',\n",
       " 'hovudemne',\n",
       " 'knyter',\n",
       " 'eigne',\n",
       " 'arbeidskrav',\n",
       " 'alle',\n",
       " 'arbeidskrav',\n",
       " 'skrivast',\n",
       " 'nynorsk',\n",
       " 'til',\n",
       " 'kvart',\n",
       " 'hovudemne',\n",
       " 'studenten',\n",
       " 'skrive',\n",
       " 'refleksjonstekster',\n",
       " '1',\n",
       " '2',\n",
       " 'sider',\n",
       " 'gje',\n",
       " 'respons',\n",
       " 'medstudentar',\n",
       " 'saman',\n",
       " '6',\n",
       " 'refleksjonstekster',\n",
       " '6',\n",
       " 'responstekster',\n",
       " 'medstudentar',\n",
       " 'skrive',\n",
       " 'ei',\n",
       " 'godkjenningstekst',\n",
       " 'ca',\n",
       " '1600',\n",
       " 'ord',\n",
       " 'kvart',\n",
       " 'hovudemne',\n",
       " 'saman',\n",
       " '3',\n",
       " 'godkjenningstekster',\n",
       " 'minst',\n",
       " 'ei',\n",
       " 'tekstene',\n",
       " 'eit',\n",
       " 'didaktisk',\n",
       " 'perspektiv',\n",
       " 'alle',\n",
       " 'tekstene',\n",
       " 'inngår',\n",
       " 'ei',\n",
       " 'arbeidsmappe',\n",
       " 'godkjennast',\n",
       " 'faglærar',\n",
       " 'for',\n",
       " 'eksamen',\n",
       " '15',\n",
       " 'studiepoeng',\n",
       " 'arbeidskrav',\n",
       " 'vere',\n",
       " 'oppfylte',\n",
       " 'på',\n",
       " 'grunnlag',\n",
       " 'godkjent',\n",
       " 'arbeidsmappe',\n",
       " 'studentane',\n",
       " 'eksamen',\n",
       " 'eksamensoppgåva',\n",
       " 'arbeidd',\n",
       " 'prosessorientert',\n",
       " 'skriving',\n",
       " 'studentane',\n",
       " 'arbeide',\n",
       " 'vidare',\n",
       " 'ein',\n",
       " 'godkjenningstekstane',\n",
       " 'ca',\n",
       " '1600',\n",
       " 'ord',\n",
       " 'utvide',\n",
       " 'ei',\n",
       " 'eksamensoppgåve',\n",
       " 'ca',\n",
       " '3000',\n",
       " 'ord',\n",
       " 'eksamen',\n",
       " 'altså',\n",
       " 'individuell',\n",
       " 'byggjer',\n",
       " 'ein',\n",
       " 'fagtekst',\n",
       " 'skriveprosessen',\n",
       " 'gitt',\n",
       " 'respons',\n",
       " 'frå',\n",
       " 'medstudentar',\n",
       " 'faglærar',\n",
       " 'oppgåva',\n",
       " 'leverast',\n",
       " 'elektronisk',\n",
       " 'innan',\n",
       " 'ein',\n",
       " 'fastsett',\n",
       " 'frist',\n",
       " 'eksamenssvaret',\n",
       " 'skrivast',\n",
       " 'nynorsk',\n",
       " 'tematisere',\n",
       " 'nynorsk',\n",
       " 'opplæringa',\n",
       " 'på',\n",
       " 'grunnlag',\n",
       " 'godkjent',\n",
       " 'arbeidsmappe',\n",
       " 'studentane',\n",
       " 'eksamen',\n",
       " 'eksamensoppgåva',\n",
       " 'arbeidd',\n",
       " 'prosessorientert',\n",
       " 'skriving',\n",
       " 'studentane',\n",
       " 'arbeide',\n",
       " 'vidare',\n",
       " 'ein',\n",
       " 'godkjenningstekstane',\n",
       " 'ca',\n",
       " '1600',\n",
       " 'ord',\n",
       " 'utvide',\n",
       " 'ei',\n",
       " 'eksamensoppgåve',\n",
       " 'ca',\n",
       " '3000',\n",
       " 'ord',\n",
       " 'eksamen',\n",
       " 'altså',\n",
       " 'individuell',\n",
       " 'byggjer',\n",
       " 'ein',\n",
       " 'fagtekst',\n",
       " 'skriveprosessen',\n",
       " 'gitt',\n",
       " 'respons',\n",
       " 'frå',\n",
       " 'medstudentar',\n",
       " 'faglærar',\n",
       " 'oppgåva',\n",
       " 'leverast',\n",
       " 'elektronisk',\n",
       " 'innan',\n",
       " 'ein',\n",
       " 'fastsett',\n",
       " 'frist',\n",
       " 'eksamenssvaret',\n",
       " 'skrivast',\n",
       " 'nynorsk',\n",
       " 'tematisere',\n",
       " 'nynorsk',\n",
       " 'opplæringa']"
      ]
     },
     "execution_count": 47,
     "metadata": {},
     "output_type": "execute_result"
    }
   ],
   "source": [
    "list(docs.values())"
   ]
  },
  {
   "cell_type": "code",
   "execution_count": 68,
   "metadata": {},
   "outputs": [],
   "source": [
    "vectorizer2 = TfidfVectorizer()"
   ]
  },
  {
   "cell_type": "code",
   "execution_count": 97,
   "metadata": {},
   "outputs": [
    {
     "data": {
      "text/plain": [
       "0      Nynorsk i opplæringa 2 er primært retta mot læ...\n",
       "1      Verdal kommune Innbyggertall 14.162 * Flateare...\n",
       "2      Artikler > 2017 > Elleve raketter skal avsløre...\n",
       "3      Studieplan - Bachelor - barnehagelærarutdannin...\n",
       "4      Skin burns\\nProject owner\\nProject categories\\...\n",
       "                             ...                        \n",
       "195    Bruksformål: Mot spinnmidd på plantekulturer i...\n",
       "196    Detailed Course Information - TIK4011(Science ...\n",
       "197    SSA-K Endringslogg 2015-2018\\nDette er Difis e...\n",
       "198    Procedure for request for grounds and appeal o...\n",
       "199    Emnebok  ERN 2110\\nVåren 2005\\nKosthold, samfu...\n",
       "Name: fulltext, Length: 200, dtype: object"
      ]
     },
     "execution_count": 97,
     "metadata": {},
     "output_type": "execute_result"
    }
   ],
   "source": [
    "df.fulltext"
   ]
  },
  {
   "cell_type": "code",
   "execution_count": 100,
   "metadata": {},
   "outputs": [],
   "source": [
    "embeddings = vectorizer2.fit_transform(df.fulltext)"
   ]
  },
  {
   "cell_type": "code",
   "execution_count": null,
   "metadata": {},
   "outputs": [],
   "source": [
    "embeddings.toarray()"
   ]
  },
  {
   "cell_type": "code",
   "execution_count": 105,
   "metadata": {},
   "outputs": [
    {
     "data": {
      "text/plain": [
       "array([[0.        , 0.        , 0.        , ..., 0.        , 0.        ,\n",
       "        0.        ],\n",
       "       [0.        , 0.        , 0.        , ..., 0.        , 0.        ,\n",
       "        0.        ],\n",
       "       [0.        , 0.0081808 , 0.        , ..., 0.        , 0.        ,\n",
       "        0.        ],\n",
       "       ...,\n",
       "       [0.        , 0.        , 0.        , ..., 0.        , 0.        ,\n",
       "        0.        ],\n",
       "       [0.03246225, 0.        , 0.        , ..., 0.        , 0.        ,\n",
       "        0.        ],\n",
       "       [0.00625851, 0.        , 0.        , ..., 0.        , 0.        ,\n",
       "        0.        ]])"
      ]
     },
     "execution_count": 105,
     "metadata": {},
     "output_type": "execute_result"
    }
   ],
   "source": [
    "embeddings.toarray()"
   ]
  },
  {
   "cell_type": "code",
   "execution_count": 104,
   "metadata": {},
   "outputs": [
    {
     "ename": "ValueError",
     "evalue": "Data must be 1-dimensional",
     "output_type": "error",
     "traceback": [
      "\u001b[0;31m---------------------------------------------------------------------------\u001b[0m",
      "\u001b[0;31mValueError\u001b[0m                                Traceback (most recent call last)",
      "Input \u001b[0;32mIn [104]\u001b[0m, in \u001b[0;36m<module>\u001b[0;34m\u001b[0m\n\u001b[0;32m----> 1\u001b[0m pd\u001b[39m.\u001b[39;49mSeries(embeddings\u001b[39m.\u001b[39;49mtoarray())\n",
      "File \u001b[0;32m~/anaconda3/envs/nlpenv/lib/python3.9/site-packages/pandas/core/series.py:451\u001b[0m, in \u001b[0;36mSeries.__init__\u001b[0;34m(self, data, index, dtype, name, copy, fastpath)\u001b[0m\n\u001b[1;32m    <a href='file:///home/larsm/anaconda3/envs/nlpenv/lib/python3.9/site-packages/pandas/core/series.py?line=448'>449</a>\u001b[0m         data \u001b[39m=\u001b[39m data\u001b[39m.\u001b[39mcopy()\n\u001b[1;32m    <a href='file:///home/larsm/anaconda3/envs/nlpenv/lib/python3.9/site-packages/pandas/core/series.py?line=449'>450</a>\u001b[0m \u001b[39melse\u001b[39;00m:\n\u001b[0;32m--> <a href='file:///home/larsm/anaconda3/envs/nlpenv/lib/python3.9/site-packages/pandas/core/series.py?line=450'>451</a>\u001b[0m     data \u001b[39m=\u001b[39m sanitize_array(data, index, dtype, copy)\n\u001b[1;32m    <a href='file:///home/larsm/anaconda3/envs/nlpenv/lib/python3.9/site-packages/pandas/core/series.py?line=452'>453</a>\u001b[0m     manager \u001b[39m=\u001b[39m get_option(\u001b[39m\"\u001b[39m\u001b[39mmode.data_manager\u001b[39m\u001b[39m\"\u001b[39m)\n\u001b[1;32m    <a href='file:///home/larsm/anaconda3/envs/nlpenv/lib/python3.9/site-packages/pandas/core/series.py?line=453'>454</a>\u001b[0m     \u001b[39mif\u001b[39;00m manager \u001b[39m==\u001b[39m \u001b[39m\"\u001b[39m\u001b[39mblock\u001b[39m\u001b[39m\"\u001b[39m:\n",
      "File \u001b[0;32m~/anaconda3/envs/nlpenv/lib/python3.9/site-packages/pandas/core/construction.py:598\u001b[0m, in \u001b[0;36msanitize_array\u001b[0;34m(data, index, dtype, copy, raise_cast_failure, allow_2d)\u001b[0m\n\u001b[1;32m    <a href='file:///home/larsm/anaconda3/envs/nlpenv/lib/python3.9/site-packages/pandas/core/construction.py?line=594'>595</a>\u001b[0m             subarr \u001b[39m=\u001b[39m cast(np\u001b[39m.\u001b[39mndarray, subarr)\n\u001b[1;32m    <a href='file:///home/larsm/anaconda3/envs/nlpenv/lib/python3.9/site-packages/pandas/core/construction.py?line=595'>596</a>\u001b[0m             subarr \u001b[39m=\u001b[39m maybe_infer_to_datetimelike(subarr)\n\u001b[0;32m--> <a href='file:///home/larsm/anaconda3/envs/nlpenv/lib/python3.9/site-packages/pandas/core/construction.py?line=597'>598</a>\u001b[0m subarr \u001b[39m=\u001b[39m _sanitize_ndim(subarr, data, dtype, index, allow_2d\u001b[39m=\u001b[39;49mallow_2d)\n\u001b[1;32m    <a href='file:///home/larsm/anaconda3/envs/nlpenv/lib/python3.9/site-packages/pandas/core/construction.py?line=599'>600</a>\u001b[0m \u001b[39mif\u001b[39;00m \u001b[39misinstance\u001b[39m(subarr, np\u001b[39m.\u001b[39mndarray):\n\u001b[1;32m    <a href='file:///home/larsm/anaconda3/envs/nlpenv/lib/python3.9/site-packages/pandas/core/construction.py?line=600'>601</a>\u001b[0m     \u001b[39m# at this point we should have dtype be None or subarr.dtype == dtype\u001b[39;00m\n\u001b[1;32m    <a href='file:///home/larsm/anaconda3/envs/nlpenv/lib/python3.9/site-packages/pandas/core/construction.py?line=601'>602</a>\u001b[0m     dtype \u001b[39m=\u001b[39m cast(np\u001b[39m.\u001b[39mdtype, dtype)\n",
      "File \u001b[0;32m~/anaconda3/envs/nlpenv/lib/python3.9/site-packages/pandas/core/construction.py:649\u001b[0m, in \u001b[0;36m_sanitize_ndim\u001b[0;34m(result, data, dtype, index, allow_2d)\u001b[0m\n\u001b[1;32m    <a href='file:///home/larsm/anaconda3/envs/nlpenv/lib/python3.9/site-packages/pandas/core/construction.py?line=646'>647</a>\u001b[0m     \u001b[39mif\u001b[39;00m allow_2d:\n\u001b[1;32m    <a href='file:///home/larsm/anaconda3/envs/nlpenv/lib/python3.9/site-packages/pandas/core/construction.py?line=647'>648</a>\u001b[0m         \u001b[39mreturn\u001b[39;00m result\n\u001b[0;32m--> <a href='file:///home/larsm/anaconda3/envs/nlpenv/lib/python3.9/site-packages/pandas/core/construction.py?line=648'>649</a>\u001b[0m     \u001b[39mraise\u001b[39;00m \u001b[39mValueError\u001b[39;00m(\u001b[39m\"\u001b[39m\u001b[39mData must be 1-dimensional\u001b[39m\u001b[39m\"\u001b[39m)\n\u001b[1;32m    <a href='file:///home/larsm/anaconda3/envs/nlpenv/lib/python3.9/site-packages/pandas/core/construction.py?line=649'>650</a>\u001b[0m \u001b[39mif\u001b[39;00m is_object_dtype(dtype) \u001b[39mand\u001b[39;00m \u001b[39misinstance\u001b[39m(dtype, ExtensionDtype):\n\u001b[1;32m    <a href='file:///home/larsm/anaconda3/envs/nlpenv/lib/python3.9/site-packages/pandas/core/construction.py?line=650'>651</a>\u001b[0m     \u001b[39m# i.e. PandasDtype(\"O\")\u001b[39;00m\n\u001b[1;32m    <a href='file:///home/larsm/anaconda3/envs/nlpenv/lib/python3.9/site-packages/pandas/core/construction.py?line=652'>653</a>\u001b[0m     result \u001b[39m=\u001b[39m com\u001b[39m.\u001b[39masarray_tuplesafe(data, dtype\u001b[39m=\u001b[39mnp\u001b[39m.\u001b[39mdtype(\u001b[39m\"\u001b[39m\u001b[39mobject\u001b[39m\u001b[39m\"\u001b[39m))\n",
      "\u001b[0;31mValueError\u001b[0m: Data must be 1-dimensional"
     ]
    }
   ],
   "source": [
    "pd.Series(embeddings.toarray())"
   ]
  },
  {
   "cell_type": "code",
   "execution_count": 75,
   "metadata": {},
   "outputs": [],
   "source": [
    "from tqdm import tqdm"
   ]
  },
  {
   "cell_type": "code",
   "execution_count": 90,
   "metadata": {},
   "outputs": [
    {
     "name": "stderr",
     "output_type": "stream",
     "text": [
      "200it [00:32,  6.09it/s]\n"
     ]
    }
   ],
   "source": [
    "dct = dict()\n",
    "x_count = 0\n",
    "for x in tqdm(embeddings):\n",
    "    y_count = 0\n",
    "    for y in embeddings:\n",
    "        cosine_similarities = cosine_similarity(embeddings[x_count], embeddings[y_count]).flatten()\n",
    "        if x_count in dct.keys():\n",
    "            dct[x_count].update({y_count : cosine_similarities[0]})\n",
    "        elif x_count not in dct.keys():\n",
    "            dct[x_count] = {y_count : cosine_similarities[0]}\n",
    "        \n",
    "        \n",
    "        y_count += 1\n",
    "        \n",
    "    x_count += 1\n",
    "        "
   ]
  },
  {
   "cell_type": "code",
   "execution_count": 91,
   "metadata": {},
   "outputs": [],
   "source": [
    "cdf = pd.DataFrame(dct)\n",
    "cdf.columns = df.fulltext_id\n",
    "cdf.index = df.fulltext_id"
   ]
  },
  {
   "cell_type": "code",
   "execution_count": null,
   "metadata": {},
   "outputs": [],
   "source": [
    "cosine_similarities"
   ]
  },
  {
   "cell_type": "code",
   "execution_count": 93,
   "metadata": {},
   "outputs": [],
   "source": [
    "cdf.to_csv(\"data/tf_idf.csv\")"
   ]
  },
  {
   "cell_type": "code",
   "execution_count": 50,
   "metadata": {},
   "outputs": [
    {
     "data": {
      "text/plain": [
       "<1x56952 sparse matrix of type '<class 'numpy.float64'>'\n",
       "\twith 267 stored elements in Compressed Sparse Row format>"
      ]
     },
     "execution_count": 50,
     "metadata": {},
     "output_type": "execute_result"
    }
   ],
   "source": [
    "embeddings[:1]"
   ]
  },
  {
   "cell_type": "code",
   "execution_count": 66,
   "metadata": {},
   "outputs": [
    {
     "data": {
      "text/plain": [
       "<1x56952 sparse matrix of type '<class 'numpy.float64'>'\n",
       "\twith 38 stored elements in Compressed Sparse Row format>"
      ]
     },
     "execution_count": 66,
     "metadata": {},
     "output_type": "execute_result"
    }
   ],
   "source": [
    "embeddings[1]"
   ]
  },
  {
   "cell_type": "code",
   "execution_count": 62,
   "metadata": {},
   "outputs": [],
   "source": [
    "cosine_similarities = cosine_similarity(embeddings[0], embeddings[1]).flatten()"
   ]
  },
  {
   "cell_type": "code",
   "execution_count": 56,
   "metadata": {},
   "outputs": [
    {
     "data": {
      "text/plain": [
       "<1x56952 sparse matrix of type '<class 'numpy.float64'>'\n",
       "\twith 38 stored elements in Compressed Sparse Row format>"
      ]
     },
     "execution_count": 56,
     "metadata": {},
     "output_type": "execute_result"
    }
   ],
   "source": [
    "embeddings[1]"
   ]
  },
  {
   "cell_type": "code",
   "execution_count": 63,
   "metadata": {},
   "outputs": [
    {
     "data": {
      "text/plain": [
       "array([0.0052601])"
      ]
     },
     "execution_count": 63,
     "metadata": {},
     "output_type": "execute_result"
    }
   ],
   "source": [
    "cosine_similarities"
   ]
  },
  {
   "cell_type": "code",
   "execution_count": 65,
   "metadata": {},
   "outputs": [
    {
     "data": {
      "text/plain": [
       "(200, 56952)"
      ]
     },
     "execution_count": 65,
     "metadata": {},
     "output_type": "execute_result"
    }
   ],
   "source": [
    "embeddings.shape"
   ]
  },
  {
   "cell_type": "code",
   "execution_count": null,
   "metadata": {},
   "outputs": [],
   "source": []
  }
 ],
 "metadata": {
  "interpreter": {
   "hash": "93dd231417b5153e211227ddef93e7bac20bb103d28b17be81cece4336fdc5da"
  },
  "kernelspec": {
   "display_name": "Python 3.9.7 ('nlpenv')",
   "language": "python",
   "name": "python3"
  },
  "language_info": {
   "codemirror_mode": {
    "name": "ipython",
    "version": 3
   },
   "file_extension": ".py",
   "mimetype": "text/x-python",
   "name": "python",
   "nbconvert_exporter": "python",
   "pygments_lexer": "ipython3",
   "version": "3.9.7"
  },
  "orig_nbformat": 4
 },
 "nbformat": 4,
 "nbformat_minor": 2
}
