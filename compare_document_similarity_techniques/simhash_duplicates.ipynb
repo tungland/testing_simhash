{
 "cells": [
  {
   "cell_type": "code",
   "execution_count": 76,
   "metadata": {},
   "outputs": [],
   "source": [
    "import simhash as sh\n",
    "import pandas as pd\n",
    "import glob\n",
    "import numpy as np\n",
    "from copy import copy"
   ]
  },
  {
   "cell_type": "code",
   "execution_count": 4,
   "metadata": {},
   "outputs": [],
   "source": [
    "paths = glob.glob(\"data/*_simhash.csv\")"
   ]
  },
  {
   "cell_type": "code",
   "execution_count": 14,
   "metadata": {},
   "outputs": [],
   "source": [
    "dct = dict()\n",
    "for path in paths:\n",
    "    dct[path.split('/')[1].split(\".\")[0].split('_')[0]] = pd.read_csv(path, index_col=0)"
   ]
  },
  {
   "cell_type": "code",
   "execution_count": 19,
   "metadata": {},
   "outputs": [
    {
     "data": {
      "text/plain": [
       "array(['0010111101101001010001010011100000010111010010001101010110010011',\n",
       "       '1111001110111111010110001100101100101010010000010110100101001110',\n",
       "       '0110111100101101110010110001100000010111010001101101010111001010',\n",
       "       '0000010100101001010011110000110000011011011000001101010111000011',\n",
       "       '0011110111111001011110100011000011000010010011100110111010010011',\n",
       "       '1110011000001101100000100101101001000110010000101101000111011111',\n",
       "       '0000000100101101111111110001100001010110010000101001011101011010',\n",
       "       '0010000100101101001000000101110000010011001010101110000111011011',\n",
       "       '0110111101101101011110100001100000000011010101011100110100011011',\n",
       "       '1110101010000001000010011110000111011111110001111101001100011001',\n",
       "       '0010101100101101011110110111110000111011010010101101110111010010',\n",
       "       '0100101110100101110000100011110101001010010001001111010110101110',\n",
       "       '0010111101100001100100110001111001000111000010101101010111000011',\n",
       "       '0101111111110100000010001001011011110111110101110001100111001110',\n",
       "       '0110111101011001000011100101111001010110010010101111010100001011',\n",
       "       '0111101001001100100110000010101010010001000001010101010110000111',\n",
       "       '0110110101101001001011101000110001010111010101000111110010100111',\n",
       "       '1010011101001001101110010001111010111001011011100011110101010010',\n",
       "       '0110000110111001001001011010111001111000010001010100000101011011',\n",
       "       '0010011000011101110010100011100000010111010010101111010111011110',\n",
       "       '0010100000001101011010110111100000011111010011101101110111011110',\n",
       "       '0110110000111101111000110011110010110111010000101100001110000011',\n",
       "       '1110111101001000000110000011101111011001010000011101010111001010',\n",
       "       '0110101100001101000110011000111101010101010010111101000101001111',\n",
       "       '1110011100000001100011010100100011011001110001010110011101010111',\n",
       "       '1111101101000001000011011110010001011111110001000101000100010010',\n",
       "       '0110101110101101000011110101101001110011011101011111110111011011',\n",
       "       '0010101010001101000000110111101001010111000001001101010111011011',\n",
       "       '0010101000101101011010110001100100010111010011101101110110010000',\n",
       "       '0010101100001001000011110011101010000010010001101100010110011111',\n",
       "       '1111111110111111010110101100101100101010010000010110100101001111',\n",
       "       '1111001100010001010111000011011001010110010111001111010111011011',\n",
       "       '0010111101101001100000100001110001110111011001111111010111010111',\n",
       "       '1111001111011111010110001100101000001010010000010110100101011010',\n",
       "       '1010111101101111000000110001110000010011010011001111010000010011',\n",
       "       '0100010000000001111011100001111010001111011100100111000010011011',\n",
       "       '1100111100001101000111111101011010110100010001001101010100011011',\n",
       "       '1010100100101001011101000000101000011011011010001110010110010011',\n",
       "       '0010101101001101010010100000111000010110010101101101010111001011',\n",
       "       '0010011100000001000010010011110001111111110001111101010001010011',\n",
       "       '0110101100100001011010111111101000110011010111101001110110011111',\n",
       "       '0110111101101001011011111011001011110111010001100101000010010000',\n",
       "       '0010100100001001000010011110011111010111010001110100011111010101',\n",
       "       '0110011000001001010110100011101001000110010011101101010100011110',\n",
       "       '0111111011001001000010011100110011010111010001110101010101011011',\n",
       "       '0010101100101101000010110011100000111011010010101101010111010010',\n",
       "       '0010111100001101000110100010110001010110010011101101010110011011',\n",
       "       '0011111100001111000100110100110010011010000100111100110111111000',\n",
       "       '1110101100000001000010011000011101011101010001100110011100010011',\n",
       "       '0010011001111001000000010001111100010111010010001101011111110111',\n",
       "       '1101100001001001000100011001011101010111110011101001101000111000',\n",
       "       '0110110101101101000010010111110001010110010011101101010100010011',\n",
       "       '0010111111101001100110010111111000010010010101101100010111001011',\n",
       "       '0110100101100101011111010110101010010110011101001101010111010010',\n",
       "       '1110101111101101001110010101101100111111111000100000011100010010',\n",
       "       '0111100111011001110010110111111001011011010010001001000110010011',\n",
       "       '0110111010000101100010011000010101010101000001100100010101011001',\n",
       "       '1010000100101001011011010011111001010011010111011100110110000000',\n",
       "       '1110100100101001001000100010110010000111010110101101010111010011',\n",
       "       '0110100000000101010010101011101000000100010100101101010110010010',\n",
       "       '0110111100000001010010100110101010010111010110101111010100000010',\n",
       "       '0010111001000101100111110111111001010010010111001100000111110011',\n",
       "       '0010111100001101010010100011100000010010010001101101010110011011',\n",
       "       '0010101101101101011110010011100000100000010001001100110110010010',\n",
       "       '0010101101100001010010110011100000110110010011001111010110011111',\n",
       "       '1111101111000100000010011100011011011111010001111110001110011011',\n",
       "       '0010101111001101000010110011110000010111010011101101010111000011',\n",
       "       '1110100110001101101111101111110001100011110011101101010111010011',\n",
       "       '0111011110001101010111111100001111010111010000111101101100010001',\n",
       "       '0010111101001000000010100001111001010100010001101101011111001011',\n",
       "       '1100001011000101010010010100101001110101000001101101010111011010',\n",
       "       '0110001100000101000000110010111011000110000010101101010110011111',\n",
       "       '1110100110001001101111101111110001100011010011101101010101010011',\n",
       "       '0010101100101000001011111001010000110110111011000101011010011111',\n",
       "       '1000111100100101010101011110111101001011010000101101000110011011',\n",
       "       '0010000101001001000100110101110100010010010011101111110010010000',\n",
       "       '0010101100101101000011100001101000010110010001101101010110011011',\n",
       "       '0010101100101101000100110011100001010011010111101101010110010010',\n",
       "       '1100110001110000000110011010111111110101110001101101000001010001',\n",
       "       '1111111100001001100011001100000101000101010001110101001100011011',\n",
       "       '0110101100011001010111110100111011010111010111001111010110010001',\n",
       "       '0101110001001001111011001101010100011101010000110001000101100001',\n",
       "       '0001001011100111001011101101001001100011010011000101101100010010',\n",
       "       '0010101101001101000010110111110000010010010001101101010110011111',\n",
       "       '0010010000100101000111110001100000111110000011100011010110010111',\n",
       "       '0010101100101101111000011011110000010111010101011101000110011011',\n",
       "       '0010110001101001000110010111110001110011011001101110011100001011',\n",
       "       '0010100110101101001111110110101000011011011111101101010111010000',\n",
       "       '0000101111101011001111100001011001110111011001101111100101010111',\n",
       "       '0110101110101000100000101000110000001010010011001111010110011011',\n",
       "       '0110111100001101010110110111101000010011010100101101010110001111',\n",
       "       '0010101100101101000110110011111000011111000111001101010110011011',\n",
       "       '1100011001000001000010100011001001110111000001111100010100011000',\n",
       "       '0010101101011101000000110011111000110011010011101101010111011011',\n",
       "       '1010111111100001010111100001111010000010000001101100000110000011',\n",
       "       '0110000110000001000010100011100101010111010101101101010111011010',\n",
       "       '0010111010100001100101100001111011000010000010101101011111011011',\n",
       "       '1000011010001001010011111101001100000101110000100001101111001001',\n",
       "       '0010101110101101001010111011110011100111010001001101110111000110',\n",
       "       '0010110100101001000010110011111001011011010100011101010111011000'],\n",
       "      dtype=object)"
      ]
     },
     "execution_count": 19,
     "metadata": {},
     "output_type": "execute_result"
    }
   ],
   "source": [
    "dct[\"maal1\"].simhash_bit.values\n",
    "    \n",
    "    "
   ]
  },
  {
   "cell_type": "code",
   "execution_count": 24,
   "metadata": {},
   "outputs": [
    {
     "ename": "OverflowError",
     "evalue": "Python int too large to convert to C unsigned long",
     "output_type": "error",
     "traceback": [
      "\u001b[0;31m---------------------------------------------------------------------------\u001b[0m",
      "\u001b[0;31mOverflowError\u001b[0m                             Traceback (most recent call last)",
      "\u001b[1;32m/home/larsm/my_projects/testing_simhash_for_maalfrid/simhash_duplicates.ipynb Cell 5'\u001b[0m in \u001b[0;36m<cell line: 1>\u001b[0;34m()\u001b[0m\n\u001b[0;32m----> <a href='vscode-notebook-cell:/home/larsm/my_projects/testing_simhash_for_maalfrid/simhash_duplicates.ipynb#ch0000004?line=0'>1</a>\u001b[0m sh\u001b[39m.\u001b[39;49mnum_differing_bits(\u001b[39mint\u001b[39;49m(dct[\u001b[39m\"\u001b[39;49m\u001b[39mmaal1\u001b[39;49m\u001b[39m\"\u001b[39;49m]\u001b[39m.\u001b[39;49msimhash_bit\u001b[39m.\u001b[39;49mvalues[\u001b[39m0\u001b[39;49m]), \u001b[39mint\u001b[39;49m(dct[\u001b[39m\"\u001b[39;49m\u001b[39mmaal1\u001b[39;49m\u001b[39m\"\u001b[39;49m]\u001b[39m.\u001b[39;49msimhash_bit\u001b[39m.\u001b[39;49mvalues[\u001b[39m0\u001b[39;49m]))\n",
      "File \u001b[0;32mstringsource:65\u001b[0m, in \u001b[0;36mcfunc.to_py.__Pyx_CFunc_size__t____hash__t____hash__t___to_py.wrap (simhash/simhash.cpp:1345)\u001b[0;34m()\u001b[0m\n",
      "\u001b[0;31mOverflowError\u001b[0m: Python int too large to convert to C unsigned long"
     ]
    }
   ],
   "source": [
    "sh.num_differing_bits(int(dct[\"maal1\"].simhash_bit.values[0]), (dct[\"maal1\"].simhash_bit.values[0]))"
   ]
  },
  {
   "cell_type": "code",
   "execution_count": 23,
   "metadata": {},
   "outputs": [
    {
     "data": {
      "text/plain": [
       "10111101101001010001010011100000010111010010001101010110010011"
      ]
     },
     "execution_count": 23,
     "metadata": {},
     "output_type": "execute_result"
    }
   ],
   "source": [
    "int(dct[\"maal1\"].simhash_bit.values[0])"
   ]
  },
  {
   "cell_type": "code",
   "execution_count": 52,
   "metadata": {},
   "outputs": [],
   "source": [
    "lst = dct[\"maal1\"].simhash.values"
   ]
  },
  {
   "cell_type": "code",
   "execution_count": 53,
   "metadata": {},
   "outputs": [
    {
     "data": {
      "text/plain": [
       "array([3.41633790e+18, 1.75638547e+19, 8.01128262e+18, 3.71915358e+17,\n",
       "       4.46573486e+18, 1.65770491e+19, 8.50044480e+16, 2.39060256e+18,\n",
       "       8.02920795e+18, 1.68977981e+19, 3.11127869e+18, 5.45097649e+18,\n",
       "       3.41417175e+18, 6.91416077e+18, 8.02346001e+18, 8.81258588e+18,\n",
       "       7.88388380e+18, 1.20543694e+19, 7.04170092e+18, 2.74657369e+18,\n",
       "       2.88608110e+18, 7.79963998e+18, 1.72420578e+19, 7.71384984e+18,\n",
       "       1.66457410e+19, 1.81047673e+19, 7.75887461e+18, 3.06611075e+18,\n",
       "       3.03920308e+18, 3.10102656e+18, 1.84285480e+19, 1.75148818e+19,\n",
       "       3.41640485e+18, 1.75728619e+19, 1.26413261e+19, 4.90045968e+18,\n",
       "       1.49196161e+19, 1.21894015e+19, 3.12023154e+18, 2.81053780e+18,\n",
       "       7.71956996e+18, 8.02807063e+18, 2.95690552e+18, 7.35250707e+18,\n",
       "       9.13584409e+18, 3.11115525e+18, 3.39039487e+18, 4.54387177e+18,\n",
       "       1.69338266e+19, 2.77224828e+18, 1.55850073e+19, 7.88496895e+18,\n",
       "       3.45245936e+18, 7.59461424e+18, 1.70003072e+19, 8.78027269e+18,\n",
       "       7.96392272e+18, 1.16129332e+19, 1.68009975e+19, 7.49547932e+18,\n",
       "       7.99875623e+18, 3.33424646e+18, 3.39044770e+18, 3.12929060e+18,\n",
       "       3.12586232e+18, 1.81416359e+19, 3.15619127e+18, 1.68293174e+19,\n",
       "       8.61464696e+18, 3.40698424e+18, 1.40347044e+19, 7.13511268e+18,\n",
       "       1.68281915e+19, 3.10978786e+18, 1.03147450e+19, 2.39846957e+18,\n",
       "       3.11115842e+18, 3.11116405e+18, 1.47313026e+19, 1.83773745e+19,\n",
       "       7.71730423e+18, 6.65010672e+18, 1.36210889e+18, 3.12016274e+18,\n",
       "       2.60452215e+18, 3.11139112e+18, 3.20011703e+18, 3.00312625e+18,\n",
       "       8.58848420e+17, 7.75759390e+18, 8.00215269e+18, 3.11117287e+18,\n",
       "       1.42857107e+19, 3.12465728e+18, 1.26735143e+19, 7.02590814e+18,\n",
       "       3.36013186e+18, 9.69436744e+18, 3.14721980e+18, 3.25414457e+18])"
      ]
     },
     "execution_count": 53,
     "metadata": {},
     "output_type": "execute_result"
    }
   ],
   "source": [
    "lst"
   ]
  },
  {
   "cell_type": "code",
   "execution_count": 55,
   "metadata": {},
   "outputs": [],
   "source": [
    "matches = sh.find_all(lst, 4, 3)"
   ]
  },
  {
   "cell_type": "code",
   "execution_count": 51,
   "metadata": {},
   "outputs": [
    {
     "data": {
      "text/plain": [
       "3416337899548366227"
      ]
     },
     "execution_count": 51,
     "metadata": {},
     "output_type": "execute_result"
    }
   ],
   "source": [
    "int('0010111101101001010001010011100000010111010010001101010110010011', 2)"
   ]
  },
  {
   "cell_type": "code",
   "execution_count": 58,
   "metadata": {},
   "outputs": [
    {
     "name": "stdout",
     "output_type": "stream",
     "text": [
      "16828191473853716480 1110100110001001101111101111110001100011010011101101100000000000\n",
      "16829317373768947712 1110100110001101101111101111110001100011110011101101100000000000\n"
     ]
    }
   ],
   "source": [
    "for i in matches:\n",
    "    for j in i:\n",
    "        print(j, format(j, \"b\"))"
   ]
  },
  {
   "cell_type": "code",
   "execution_count": 77,
   "metadata": {},
   "outputs": [],
   "source": [
    "ids  = copy(dct[\"maal1\"].fulltext_id.loc[dct[\"maal1\"][\"simhash\"].isin(matches[0])])"
   ]
  },
  {
   "cell_type": "code",
   "execution_count": 79,
   "metadata": {},
   "outputs": [
    {
     "data": {
      "text/plain": [
       "array([9008985, 8529357])"
      ]
     },
     "execution_count": 79,
     "metadata": {},
     "output_type": "execute_result"
    }
   ],
   "source": [
    "ids.values"
   ]
  },
  {
   "cell_type": "code",
   "execution_count": 80,
   "metadata": {},
   "outputs": [],
   "source": [
    "texts = pd.read_csv(\"data/maal1_fulltext.csv\", index_col=0)"
   ]
  },
  {
   "cell_type": "code",
   "execution_count": 86,
   "metadata": {},
   "outputs": [],
   "source": [
    "from gensim.models.doc2vec import Doc2Vec, TaggedDocument"
   ]
  },
  {
   "cell_type": "code",
   "execution_count": 95,
   "metadata": {},
   "outputs": [],
   "source": [
    "text_list = [t for t in texts.fulltext.loc[texts[\"fulltext_id\"].isin(ids.values)]]"
   ]
  },
  {
   "cell_type": "code",
   "execution_count": 94,
   "metadata": {},
   "outputs": [],
   "source": [
    "import spacy\n",
    "from spacy.lang.nb.examples import sentences \n",
    "   "
   ]
  },
  {
   "cell_type": "code",
   "execution_count": 96,
   "metadata": {},
   "outputs": [],
   "source": [
    "nlp = spacy.load(\"nb_core_news_sm\")"
   ]
  },
  {
   "cell_type": "code",
   "execution_count": 97,
   "metadata": {},
   "outputs": [],
   "source": [
    "proc = [nlp(x) for x in text_list]"
   ]
  },
  {
   "cell_type": "code",
   "execution_count": 109,
   "metadata": {},
   "outputs": [
    {
     "name": "stdout",
     "output_type": "stream",
     "text": [
      "Begrepsavklaring\n",
      "og\n",
      "avgrensing\n",
      "Jordbruk\n",
      "Jordbruk\n",
      "definere\n",
      "som\n",
      "tradisjonell\n",
      "produksjon\n",
      "av\n",
      "jord-\n",
      "og\n",
      "hagebruksråvare\n",
      "som\n",
      "mjølk\n",
      "kjøt\n",
      "ull\n",
      "honning\n",
      "egg\n",
      "korn\n",
      "oljefrø\n",
      "ert\n",
      "frukt\n",
      "bær\n",
      "potet\n",
      "grønnsak\n",
      "blomedyrking\n",
      "og\n",
      "andre\n",
      "jordbruksproduksjonar\n",
      "pelsdyr\n",
      "hjorteoppdrett\n",
      "birøkt\n",
      "med\n",
      "meir\n",
      "det\n",
      "handlar\n",
      "her\n",
      "om\n",
      "tradisjonell\n",
      "husdyrhald\n",
      "og\n",
      "planteproduksjon\n",
      "dette\n",
      "femnar\n",
      "òg\n",
      "utleig\n",
      "av\n",
      "jordbruksareal\n",
      "til\n",
      "jordbruksaktivit\n",
      "og\n",
      "utleig\n",
      "av\n",
      "maskin\n",
      "i\n",
      "små\n",
      "målestokk\n",
      "Tilleggsnæringar\n",
      "Næringsaktivitet\n",
      "på\n",
      "gardsbruk\n",
      "landbrukseigedom\n",
      "som\n",
      "vert\n",
      "drive\n",
      "i\n",
      "tillegg\n",
      "til\n",
      "tradisjonell\n",
      "landbruk\n",
      "der\n",
      "ein\n",
      "eller\n",
      "mange\n",
      "av\n",
      "bruk\n",
      "sine\n",
      "ressursar\n",
      "areal\n",
      "bygningar\n",
      "maskin\n",
      "og\n",
      "landbruksråvare\n",
      "høyre\n",
      "med\n",
      "som\n",
      "faktorinnsats\n",
      "i\n",
      "produksjon\n",
      "Produksjonsverdi\n",
      "omsetning\n",
      "sum\n",
      "av\n",
      "salsinntekte\n",
      "markedsinntekte\n",
      "og\n",
      "produksjonstilskot\n",
      "Verdiskaping\n",
      "Fleire\n",
      "mål\n",
      "kan\n",
      "nyttast\n",
      "for\n",
      "å\n",
      "kaste\n",
      "lys\n",
      "over\n",
      "verdiskaping\n",
      "i\n",
      "landbruksrelatert\n",
      "næringsvverksemd\n",
      "vi\n",
      "har\n",
      "her\n",
      "definere\n",
      "verdiskaping\n",
      "som\n",
      "nettoprodukt\n",
      "det\n",
      "vil\n",
      "sei\n",
      "det\n",
      "som\n",
      "er\n",
      "igjen\n",
      "til\n",
      "godtgjering\n",
      "av\n",
      "arbeidsinnsats\n",
      "løn\n",
      "og\n",
      "avkastning\n",
      "på\n",
      "innsette\n",
      "kapital\n",
      "når\n",
      "alle\n",
      "andre\n",
      "produksjonsfaktorar\n",
      "er\n",
      "godtgjort\n",
      "Ringverknader\n",
      "Inntektsdanninga\n",
      "som\n",
      "kjem\n",
      "direkte\n",
      "av\n",
      "næringsverksemda\n",
      "kallar\n",
      "vi\n",
      "direkte\n",
      "lokaløkonomisk\n",
      "verknad\n",
      "i\n",
      "dette\n",
      "tilfelle\n",
      "er\n",
      "det\n",
      "landbruke\n",
      "sin\n",
      "produksjonsverdi\n",
      "i\n",
      "kommunane\n",
      "inntekt\n",
      "som\n",
      "med\n",
      "utgangspunkt\n",
      "i\n",
      "denne\n",
      "verksemda\n",
      "ellers\n",
      "vert\n",
      "generere\n",
      "til\n",
      "lokalsamfunn\n",
      "kallar\n",
      "vi\n",
      "ringverknade\n",
      "eller\n",
      "indirekte\n",
      "lokaløkonomisk\n",
      "verknad\n",
      "sum\n",
      "av\n",
      "direkte\n",
      "lokaløkonomisk\n",
      "verknad\n",
      "og\n",
      "ringverknade\n",
      "kallar\n",
      "vi\n",
      "total\n",
      "lokaløkonomisk\n",
      "verknad\n",
      "Utrekning\n",
      "av\n",
      "ringverknade\n",
      "er\n",
      "ei\n",
      "ressurskrevand\n",
      "oppgåve\n",
      "Utrekningar\n",
      "for\n",
      "lokalnivå\n",
      "vert\n",
      "derfor\n",
      "oft\n",
      "gjøre\n",
      "ved\n",
      "hjelp\n",
      "av\n",
      "multiplikatorar\n",
      "utrekne\n",
      "for\n",
      "eit\n",
      "stor\n",
      "område\n",
      "den\n",
      "rekneskapsmessig\n",
      "omsetning\n",
      "vert\n",
      "bruke\n",
      "som\n",
      "mål\n",
      "på\n",
      "verdi\n",
      "av\n",
      "den\n",
      "produksjon\n",
      "utrekningane\n",
      "er\n",
      "basere\n",
      "på\n",
      "dette\n",
      "er\n",
      "utskriftsversjon\n",
      "av\n",
      "https://www.landbruksforum.no/innherred/info/?viskommune=verdal&vis_o_id=3&vis_o_id=3&vis=begrep&lang=nyn&tema_id=7\n"
     ]
    }
   ],
   "source": [
    "lst = []\n",
    "for l in proc:\n",
    "    inner_lst = []\n",
    "    for t in l:\n",
    "        if t.tag_ not in  [\"SPACE\", \"PUNCT\"]:\n",
    "            inner_lst += [t.lemma_]\n",
    "    "
   ]
  },
  {
   "cell_type": "code",
   "execution_count": null,
   "metadata": {},
   "outputs": [],
   "source": []
  },
  {
   "cell_type": "code",
   "execution_count": 89,
   "metadata": {},
   "outputs": [],
   "source": [
    "documents = [TaggedDocument(doc, [i]) for i, doc in enumerate(t)]"
   ]
  },
  {
   "cell_type": "code",
   "execution_count": 90,
   "metadata": {},
   "outputs": [],
   "source": [
    "model = Doc2Vec(documents, vector_size=5, window=2, min_count=1, workers=4)"
   ]
  },
  {
   "cell_type": "code",
   "execution_count": 91,
   "metadata": {},
   "outputs": [
    {
     "data": {
      "text/plain": [
       "<gensim.models.doc2vec.Doc2Vec at 0x7f417b355130>"
      ]
     },
     "execution_count": 91,
     "metadata": {},
     "output_type": "execute_result"
    }
   ],
   "source": [
    "model"
   ]
  },
  {
   "cell_type": "code",
   "execution_count": 87,
   "metadata": {},
   "outputs": [],
   "source": [
    "\n",
    "   "
   ]
  },
  {
   "cell_type": "code",
   "execution_count": 88,
   "metadata": {},
   "outputs": [
    {
     "data": {
      "text/plain": [
       "['Begrepsavklaring og avgrensing\\nJordbruk\\nJordbruk defineres som tradisjonell produksjon av jord- og hagebruksråvarer som mjølk, kjøt, ull, honning, egg, korn, oljefrø, erter, frukt, bær, poteter, grønnsaker, blomedyrking og andre jordbruksproduksjonar (pelsdyr, hjorteoppdrett, birøkt med meir). Det handlar her om tradisjonelt husdyrhald og planteproduksjon (dette femnar òg utleige av jordbruksareal til jordbruksaktivitet og utleige av maskiner i mindre målestokk).\\nTilleggsnæringar\\nNæringsaktivitet på gardsbruk/landbrukseigedom som vert driven i tillegg til tradisjonelt landbruk, der ein eller flere av bruket sine ressursar (areal, bygningar, maskiner og landbruksråvarer) høyrer med som faktorinnsats i produksjonen.\\nProduksjonsverdi (omsetning)\\nSummen av salsinntekter (markedsinntekter) og produksjonstilskot\\nVerdiskaping\\nFleire mål kan nyttast for å kasta lys over verdiskapinga i landbruksrelatert næringsvverksemd. Vi har her definert verdiskapinga som nettoprodukt, det vil sei det som er igjen til godtgjering av arbeidsinnsats (løn) og avkastning på innsatt kapital når alle andre produksjonsfaktorar er godtgjort.\\nRingverknader\\nInntektsdanninga som kjem direkte av næringsverksemda kallar vi direkte lokaløkonomiske verknader. I dette tilfellet er det landbruket sin produksjonsverdi i kommunane. Inntekter som med utgangspunkt i denne verksemda ellers vert generert til lokalsamfunnet, kallar vi ringverknader (eller indirekte lokaløkonomiske verknader). Summen av direkte lokaløkonomiske verknader og ringverknader, kallar vi totale lokaløkonomiske verknader. Utrekning av ringverknader er ei ressurskrevande oppgåve. Utrekningar for lokalnivå vert derfor ofte gjort ved hjelp av multiplikatorar utrekna for eit større område. Den rekneskapsmessige omsetninga vert brukt som mål på verdien av den produksjonen utrekningane er basert på.\\nDette er utskriftsversjon av https://www.landbruksforum.no/innherred/info/?viskommune=verdal&vis_o_id=3&vis_o_id=3&vis=begrep&lang=nyn&tema_id=7',\n",
       " 'Begrepsavklaring og avgrensing\\nJordbruk\\nJordbruk defineres som tradisjonell produksjon av jord- og hagebruksråvarer som mjølk, kjøt, ull, honning, egg, korn, oljefrø, erter, frukt, bær, poteter, grønnsaker, blomedyrking og andre jordbruksproduksjonar (pelsdyr, hjorteoppdrett, birøkt med meir). Det handlar her om tradisjonelt husdyrhald og planteproduksjon (dette femnar òg utleige av jordbruksareal til jordbruksaktivitet og utleige av maskiner i mindre målestokk).\\nTilleggsnæringar\\nNæringsaktivitet på gardsbruk/landbrukseigedom som vert driven i tillegg til tradisjonelt landbruk, der ein eller flere av bruket sine ressursar (areal, bygningar, maskiner og landbruksråvarer) høyrer med som faktorinnsats i produksjonen.\\nProduksjonsverdi (omsetning)\\nSummen av salsinntekter (markedsinntekter) og produksjonstilskot\\nVerdiskaping\\nFleire mål kan nyttast for å kasta lys over verdiskapinga i landbruksrelatert næringsvverksemd. Vi har her definert verdiskapinga som nettoprodukt, det vil sei det som er igjen til godtgjering av arbeidsinnsats (løn) og avkastning på innsatt kapital når alle andre produksjonsfaktorar er godtgjort.\\nRingverknader\\nInntektsdanninga som kjem direkte av næringsverksemda kallar vi direkte lokaløkonomiske verknader. I dette tilfellet er det landbruket sin produksjonsverdi i kommunane. Inntekter som med utgangspunkt i denne verksemda ellers vert generert til lokalsamfunnet, kallar vi ringverknader (eller indirekte lokaløkonomiske verknader). Summen av direkte lokaløkonomiske verknader og ringverknader, kallar vi totale lokaløkonomiske verknader. Utrekning av ringverknader er ei ressurskrevande oppgåve. Utrekningar for lokalnivå vert derfor ofte gjort ved hjelp av multiplikatorar utrekna for eit større område. Den rekneskapsmessige omsetninga vert brukt som mål på verdien av den produksjonen utrekningane er basert på.\\nDette er utskriftsversjon av https://www.landbruksforum.no/innherred/info/?viskommune=levanger&vis_o_id=2&lang=nyn&tema_id=14&spm_id=28&utskriftsversjon=1']"
      ]
     },
     "execution_count": 88,
     "metadata": {},
     "output_type": "execute_result"
    }
   ],
   "source": [
    "t"
   ]
  },
  {
   "cell_type": "code",
   "execution_count": 66,
   "metadata": {},
   "outputs": [
    {
     "data": {
      "text/plain": [
       "16828191473853716480"
      ]
     },
     "execution_count": 66,
     "metadata": {},
     "output_type": "execute_result"
    }
   ],
   "source": [
    "matches[0][0]"
   ]
  },
  {
   "cell_type": "code",
   "execution_count": 44,
   "metadata": {},
   "outputs": [],
   "source": [
    "t = map(str,lst)"
   ]
  },
  {
   "cell_type": "code",
   "execution_count": 36,
   "metadata": {},
   "outputs": [
    {
     "data": {
      "text/plain": [
       "array(<map object at 0x7f4197d1c250>, dtype=object)"
      ]
     },
     "execution_count": 36,
     "metadata": {},
     "output_type": "execute_result"
    }
   ],
   "source": [
    "np.array(t)"
   ]
  },
  {
   "cell_type": "code",
   "execution_count": 45,
   "metadata": {},
   "outputs": [],
   "source": [
    "y = np.fromiter(t, float)"
   ]
  },
  {
   "cell_type": "code",
   "execution_count": 50,
   "metadata": {},
   "outputs": [
    {
     "ename": "ValueError",
     "evalue": "Unknown format code 'b' for object of type 'float'",
     "output_type": "error",
     "traceback": [
      "\u001b[0;31m---------------------------------------------------------------------------\u001b[0m",
      "\u001b[0;31mValueError\u001b[0m                                Traceback (most recent call last)",
      "\u001b[1;32m/home/larsm/my_projects/testing_simhash_for_maalfrid/simhash_duplicates.ipynb Cell 13'\u001b[0m in \u001b[0;36m<cell line: 1>\u001b[0;34m()\u001b[0m\n\u001b[0;32m----> <a href='vscode-notebook-cell:/home/larsm/my_projects/testing_simhash_for_maalfrid/simhash_duplicates.ipynb#ch0000014?line=0'>1</a>\u001b[0m \u001b[39mformat\u001b[39;49m(y[\u001b[39m0\u001b[39;49m], \u001b[39m\"\u001b[39;49m\u001b[39mb\u001b[39;49m\u001b[39m\"\u001b[39;49m)\n",
      "\u001b[0;31mValueError\u001b[0m: Unknown format code 'b' for object of type 'float'"
     ]
    }
   ],
   "source": [
    "format(y[0], \"b\")"
   ]
  },
  {
   "cell_type": "code",
   "execution_count": 33,
   "metadata": {},
   "outputs": [
    {
     "data": {
      "text/plain": [
       "['0010111101101001010001010011100000010111010010001101010110010011',\n",
       " '1111001110111111010110001100101100101010010000010110100101001110',\n",
       " '0110111100101101110010110001100000010111010001101101010111001010',\n",
       " '0000010100101001010011110000110000011011011000001101010111000011',\n",
       " '0011110111111001011110100011000011000010010011100110111010010011',\n",
       " '1110011000001101100000100101101001000110010000101101000111011111',\n",
       " '0000000100101101111111110001100001010110010000101001011101011010',\n",
       " '0010000100101101001000000101110000010011001010101110000111011011',\n",
       " '0110111101101101011110100001100000000011010101011100110100011011',\n",
       " '1110101010000001000010011110000111011111110001111101001100011001',\n",
       " '0010101100101101011110110111110000111011010010101101110111010010',\n",
       " '0100101110100101110000100011110101001010010001001111010110101110',\n",
       " '0010111101100001100100110001111001000111000010101101010111000011',\n",
       " '0101111111110100000010001001011011110111110101110001100111001110',\n",
       " '0110111101011001000011100101111001010110010010101111010100001011',\n",
       " '0111101001001100100110000010101010010001000001010101010110000111',\n",
       " '0110110101101001001011101000110001010111010101000111110010100111',\n",
       " '1010011101001001101110010001111010111001011011100011110101010010',\n",
       " '0110000110111001001001011010111001111000010001010100000101011011',\n",
       " '0010011000011101110010100011100000010111010010101111010111011110',\n",
       " '0010100000001101011010110111100000011111010011101101110111011110',\n",
       " '0110110000111101111000110011110010110111010000101100001110000011',\n",
       " '1110111101001000000110000011101111011001010000011101010111001010',\n",
       " '0110101100001101000110011000111101010101010010111101000101001111',\n",
       " '1110011100000001100011010100100011011001110001010110011101010111',\n",
       " '1111101101000001000011011110010001011111110001000101000100010010',\n",
       " '0110101110101101000011110101101001110011011101011111110111011011',\n",
       " '0010101010001101000000110111101001010111000001001101010111011011',\n",
       " '0010101000101101011010110001100100010111010011101101110110010000',\n",
       " '0010101100001001000011110011101010000010010001101100010110011111',\n",
       " '1111111110111111010110101100101100101010010000010110100101001111',\n",
       " '1111001100010001010111000011011001010110010111001111010111011011',\n",
       " '0010111101101001100000100001110001110111011001111111010111010111',\n",
       " '1111001111011111010110001100101000001010010000010110100101011010',\n",
       " '1010111101101111000000110001110000010011010011001111010000010011',\n",
       " '0100010000000001111011100001111010001111011100100111000010011011',\n",
       " '1100111100001101000111111101011010110100010001001101010100011011',\n",
       " '1010100100101001011101000000101000011011011010001110010110010011',\n",
       " '0010101101001101010010100000111000010110010101101101010111001011',\n",
       " '0010011100000001000010010011110001111111110001111101010001010011',\n",
       " '0110101100100001011010111111101000110011010111101001110110011111',\n",
       " '0110111101101001011011111011001011110111010001100101000010010000',\n",
       " '0010100100001001000010011110011111010111010001110100011111010101',\n",
       " '0110011000001001010110100011101001000110010011101101010100011110',\n",
       " '0111111011001001000010011100110011010111010001110101010101011011',\n",
       " '0010101100101101000010110011100000111011010010101101010111010010',\n",
       " '0010111100001101000110100010110001010110010011101101010110011011',\n",
       " '0011111100001111000100110100110010011010000100111100110111111000',\n",
       " '1110101100000001000010011000011101011101010001100110011100010011',\n",
       " '0010011001111001000000010001111100010111010010001101011111110111',\n",
       " '1101100001001001000100011001011101010111110011101001101000111000',\n",
       " '0110110101101101000010010111110001010110010011101101010100010011',\n",
       " '0010111111101001100110010111111000010010010101101100010111001011',\n",
       " '0110100101100101011111010110101010010110011101001101010111010010',\n",
       " '1110101111101101001110010101101100111111111000100000011100010010',\n",
       " '0111100111011001110010110111111001011011010010001001000110010011',\n",
       " '0110111010000101100010011000010101010101000001100100010101011001',\n",
       " '1010000100101001011011010011111001010011010111011100110110000000',\n",
       " '1110100100101001001000100010110010000111010110101101010111010011',\n",
       " '0110100000000101010010101011101000000100010100101101010110010010',\n",
       " '0110111100000001010010100110101010010111010110101111010100000010',\n",
       " '0010111001000101100111110111111001010010010111001100000111110011',\n",
       " '0010111100001101010010100011100000010010010001101101010110011011',\n",
       " '0010101101101101011110010011100000100000010001001100110110010010',\n",
       " '0010101101100001010010110011100000110110010011001111010110011111',\n",
       " '1111101111000100000010011100011011011111010001111110001110011011',\n",
       " '0010101111001101000010110011110000010111010011101101010111000011',\n",
       " '1110100110001101101111101111110001100011110011101101010111010011',\n",
       " '0111011110001101010111111100001111010111010000111101101100010001',\n",
       " '0010111101001000000010100001111001010100010001101101011111001011',\n",
       " '1100001011000101010010010100101001110101000001101101010111011010',\n",
       " '0110001100000101000000110010111011000110000010101101010110011111',\n",
       " '1110100110001001101111101111110001100011010011101101010101010011',\n",
       " '0010101100101000001011111001010000110110111011000101011010011111',\n",
       " '1000111100100101010101011110111101001011010000101101000110011011',\n",
       " '0010000101001001000100110101110100010010010011101111110010010000',\n",
       " '0010101100101101000011100001101000010110010001101101010110011011',\n",
       " '0010101100101101000100110011100001010011010111101101010110010010',\n",
       " '1100110001110000000110011010111111110101110001101101000001010001',\n",
       " '1111111100001001100011001100000101000101010001110101001100011011',\n",
       " '0110101100011001010111110100111011010111010111001111010110010001',\n",
       " '0101110001001001111011001101010100011101010000110001000101100001',\n",
       " '0001001011100111001011101101001001100011010011000101101100010010',\n",
       " '0010101101001101000010110111110000010010010001101101010110011111',\n",
       " '0010010000100101000111110001100000111110000011100011010110010111',\n",
       " '0010101100101101111000011011110000010111010101011101000110011011',\n",
       " '0010110001101001000110010111110001110011011001101110011100001011',\n",
       " '0010100110101101001111110110101000011011011111101101010111010000',\n",
       " '0000101111101011001111100001011001110111011001101111100101010111',\n",
       " '0110101110101000100000101000110000001010010011001111010110011011',\n",
       " '0110111100001101010110110111101000010011010100101101010110001111',\n",
       " '0010101100101101000110110011111000011111000111001101010110011011',\n",
       " '1100011001000001000010100011001001110111000001111100010100011000',\n",
       " '0010101101011101000000110011111000110011010011101101010111011011',\n",
       " '1010111111100001010111100001111010000010000001101100000110000011',\n",
       " '0110000110000001000010100011100101010111010101101101010111011010',\n",
       " '0010111010100001100101100001111011000010000010101101011111011011',\n",
       " '1000011010001001010011111101001100000101110000100001101111001001',\n",
       " '0010101110101101001010111011110011100111010001001101110111000110',\n",
       " '0010110100101001000010110011111001011011010100011101010111011000']"
      ]
     },
     "execution_count": 33,
     "metadata": {},
     "output_type": "execute_result"
    }
   ],
   "source": [
    "list(t)"
   ]
  },
  {
   "cell_type": "code",
   "execution_count": null,
   "metadata": {},
   "outputs": [],
   "source": []
  }
 ],
 "metadata": {
  "interpreter": {
   "hash": "db334dff8f1c5d7e42c8d4204e45191c3023c058706673d1df80c18ef4a1d853"
  },
  "kernelspec": {
   "display_name": "Python 3.8.10 ('env38': venv)",
   "language": "python",
   "name": "python3"
  },
  "language_info": {
   "codemirror_mode": {
    "name": "ipython",
    "version": 3
   },
   "file_extension": ".py",
   "mimetype": "text/x-python",
   "name": "python",
   "nbconvert_exporter": "python",
   "pygments_lexer": "ipython3",
   "version": "3.8.10"
  },
  "orig_nbformat": 4
 },
 "nbformat": 4,
 "nbformat_minor": 2
}
