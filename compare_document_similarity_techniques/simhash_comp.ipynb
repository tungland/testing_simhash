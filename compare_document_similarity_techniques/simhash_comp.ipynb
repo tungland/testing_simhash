{
 "cells": [
  {
   "cell_type": "code",
   "execution_count": 1,
   "metadata": {},
   "outputs": [],
   "source": [
    "import pandas as pd, glob, numpy as np\n",
    "from scipy.spatial.distance import hamming\n",
    "from myfuncs import deduplicate"
   ]
  },
  {
   "cell_type": "code",
   "execution_count": 2,
   "metadata": {},
   "outputs": [],
   "source": [
    "paths = glob.glob(\"data/*_simhash.csv\")\n",
    "lst = []\n",
    "for x in paths:\n",
    "    df = pd.read_csv(x, index_col=0)\n",
    "    lst +=  [df]\n",
    "    \n",
    "df = pd.concat(lst).reset_index(drop = True)"
   ]
  },
  {
   "cell_type": "code",
   "execution_count": 3,
   "metadata": {},
   "outputs": [
    {
     "data": {
      "text/html": [
       "<div>\n",
       "<style scoped>\n",
       "    .dataframe tbody tr th:only-of-type {\n",
       "        vertical-align: middle;\n",
       "    }\n",
       "\n",
       "    .dataframe tbody tr th {\n",
       "        vertical-align: top;\n",
       "    }\n",
       "\n",
       "    .dataframe thead th {\n",
       "        text-align: right;\n",
       "    }\n",
       "</style>\n",
       "<table border=\"1\" class=\"dataframe\">\n",
       "  <thead>\n",
       "    <tr style=\"text-align: right;\">\n",
       "      <th></th>\n",
       "      <th>fulltext_id</th>\n",
       "      <th>simhash</th>\n",
       "      <th>simhash_bit</th>\n",
       "    </tr>\n",
       "  </thead>\n",
       "  <tbody>\n",
       "    <tr>\n",
       "      <th>0</th>\n",
       "      <td>15497914</td>\n",
       "      <td>3.416338e+18</td>\n",
       "      <td>0010111101101001010001010011100000010111010010...</td>\n",
       "    </tr>\n",
       "    <tr>\n",
       "      <th>1</th>\n",
       "      <td>9474991</td>\n",
       "      <td>1.756385e+19</td>\n",
       "      <td>1111001110111111010110001100101100101010010000...</td>\n",
       "    </tr>\n",
       "    <tr>\n",
       "      <th>2</th>\n",
       "      <td>15526043</td>\n",
       "      <td>8.011283e+18</td>\n",
       "      <td>0110111100101101110010110001100000010111010001...</td>\n",
       "    </tr>\n",
       "    <tr>\n",
       "      <th>3</th>\n",
       "      <td>10265653</td>\n",
       "      <td>3.719154e+17</td>\n",
       "      <td>0000010100101001010011110000110000011011011000...</td>\n",
       "    </tr>\n",
       "    <tr>\n",
       "      <th>4</th>\n",
       "      <td>3949397</td>\n",
       "      <td>4.465735e+18</td>\n",
       "      <td>0011110111111001011110100011000011000010010011...</td>\n",
       "    </tr>\n",
       "    <tr>\n",
       "      <th>...</th>\n",
       "      <td>...</td>\n",
       "      <td>...</td>\n",
       "      <td>...</td>\n",
       "    </tr>\n",
       "    <tr>\n",
       "      <th>195</th>\n",
       "      <td>9229598</td>\n",
       "      <td>1.682819e+19</td>\n",
       "      <td>1110100110001001101111101111110001100011110011...</td>\n",
       "    </tr>\n",
       "    <tr>\n",
       "      <th>196</th>\n",
       "      <td>12661472</td>\n",
       "      <td>1.778170e+19</td>\n",
       "      <td>1111011011000101010010010000010011111101100011...</td>\n",
       "    </tr>\n",
       "    <tr>\n",
       "      <th>197</th>\n",
       "      <td>51508201</td>\n",
       "      <td>1.093670e+18</td>\n",
       "      <td>0000111100101101011111110001111000010011010010...</td>\n",
       "    </tr>\n",
       "    <tr>\n",
       "      <th>198</th>\n",
       "      <td>407063</td>\n",
       "      <td>1.285711e+19</td>\n",
       "      <td>1011001001101101100111110001000011010010111010...</td>\n",
       "    </tr>\n",
       "    <tr>\n",
       "      <th>199</th>\n",
       "      <td>15941779</td>\n",
       "      <td>7.724036e+18</td>\n",
       "      <td>0110101100110001010010010111100000001111010010...</td>\n",
       "    </tr>\n",
       "  </tbody>\n",
       "</table>\n",
       "<p>200 rows × 3 columns</p>\n",
       "</div>"
      ],
      "text/plain": [
       "     fulltext_id       simhash  \\\n",
       "0       15497914  3.416338e+18   \n",
       "1        9474991  1.756385e+19   \n",
       "2       15526043  8.011283e+18   \n",
       "3       10265653  3.719154e+17   \n",
       "4        3949397  4.465735e+18   \n",
       "..           ...           ...   \n",
       "195      9229598  1.682819e+19   \n",
       "196     12661472  1.778170e+19   \n",
       "197     51508201  1.093670e+18   \n",
       "198       407063  1.285711e+19   \n",
       "199     15941779  7.724036e+18   \n",
       "\n",
       "                                           simhash_bit  \n",
       "0    0010111101101001010001010011100000010111010010...  \n",
       "1    1111001110111111010110001100101100101010010000...  \n",
       "2    0110111100101101110010110001100000010111010001...  \n",
       "3    0000010100101001010011110000110000011011011000...  \n",
       "4    0011110111111001011110100011000011000010010011...  \n",
       "..                                                 ...  \n",
       "195  1110100110001001101111101111110001100011110011...  \n",
       "196  1111011011000101010010010000010011111101100011...  \n",
       "197  0000111100101101011111110001111000010011010010...  \n",
       "198  1011001001101101100111110001000011010010111010...  \n",
       "199  0110101100110001010010010111100000001111010010...  \n",
       "\n",
       "[200 rows x 3 columns]"
      ]
     },
     "execution_count": 3,
     "metadata": {},
     "output_type": "execute_result"
    }
   ],
   "source": [
    "df"
   ]
  },
  {
   "cell_type": "code",
   "execution_count": 4,
   "metadata": {},
   "outputs": [],
   "source": [
    "dct = {}\n",
    "for i, x in zip(df.fulltext_id, df.simhash_bit):\n",
    "    for j, y in zip(df.fulltext_id, df.simhash_bit):\n",
    "       h = hamming(list(x), list(y)) * len(list(x))\n",
    "       if i in dct.keys():           \n",
    "           dct[i].update({j : h})\n",
    "       else:\n",
    "           dct[i] = {j : h}\n",
    "         "
   ]
  },
  {
   "cell_type": "code",
   "execution_count": 5,
   "metadata": {},
   "outputs": [
    {
     "data": {
      "text/plain": [
       "('0110101100110001010010010111100000001111010010111100110100011001',\n",
       " '0110101100110001010010010111100000001111010010111100110100011001')"
      ]
     },
     "execution_count": 5,
     "metadata": {},
     "output_type": "execute_result"
    }
   ],
   "source": [
    "x, y"
   ]
  },
  {
   "cell_type": "code",
   "execution_count": 6,
   "metadata": {},
   "outputs": [
    {
     "data": {
      "text/plain": [
       "0.0"
      ]
     },
     "execution_count": 6,
     "metadata": {},
     "output_type": "execute_result"
    }
   ],
   "source": [
    "hamming(x, y)"
   ]
  },
  {
   "cell_type": "code",
   "execution_count": 8,
   "metadata": {},
   "outputs": [],
   "source": [
    "ndf = pd.DataFrame(dct)"
   ]
  },
  {
   "cell_type": "code",
   "execution_count": 48,
   "metadata": {},
   "outputs": [],
   "source": [
    "ndf.to_csv(\"data/simhash_distance.csv\")"
   ]
  },
  {
   "cell_type": "code",
   "execution_count": 9,
   "metadata": {},
   "outputs": [],
   "source": [
    "ndf2 = deduplicate(ndf)"
   ]
  },
  {
   "cell_type": "code",
   "execution_count": 12,
   "metadata": {},
   "outputs": [
    {
     "data": {
      "text/plain": [
       "15497914  9474991     38.0\n",
       "          15526043    15.0\n",
       "          10265653    15.0\n",
       "          3949397     24.0\n",
       "          5618078     24.0\n",
       "                      ... \n",
       "12661472  407063      28.0\n",
       "          15941779    27.0\n",
       "51508201  407063      28.0\n",
       "          15941779    25.0\n",
       "407063    15941779    35.0\n",
       "Length: 19900, dtype: float64"
      ]
     },
     "execution_count": 12,
     "metadata": {},
     "output_type": "execute_result"
    }
   ],
   "source": [
    "ndf2.stack()"
   ]
  },
  {
   "cell_type": "code",
   "execution_count": 15,
   "metadata": {},
   "outputs": [],
   "source": [
    "v = ndf.stack().sort_values()"
   ]
  },
  {
   "cell_type": "code",
   "execution_count": 46,
   "metadata": {},
   "outputs": [
    {
     "data": {
      "text/plain": [
       "15497914  15497914     0.0\n",
       "15845867  15845867     0.0\n",
       "8529357   8529357      0.0\n",
       "12284333  12284333     0.0\n",
       "15836479  15836479     0.0\n",
       "                      ... \n",
       "4498255   3384362     44.0\n",
       "15419425  31035       44.0\n",
       "31035     15419425    44.0\n",
       "15762651  3949397     45.0\n",
       "3949397   15762651    45.0\n",
       "Length: 40000, dtype: float64"
      ]
     },
     "execution_count": 46,
     "metadata": {},
     "output_type": "execute_result"
    }
   ],
   "source": [
    "v"
   ]
  },
  {
   "cell_type": "code",
   "execution_count": 24,
   "metadata": {},
   "outputs": [],
   "source": [
    "duplicates = v.loc[(v <= 3) & (v != 0)]"
   ]
  },
  {
   "cell_type": "code",
   "execution_count": 25,
   "metadata": {},
   "outputs": [],
   "source": [
    "paths = glob.glob(\"data/*_fulltext.csv\")\n",
    "lst = []\n",
    "for x in paths:\n",
    "    df = pd.read_csv(x, index_col=0)\n",
    "    lst +=  [df]\n",
    "    \n",
    "df = pd.concat(lst).reset_index(drop = True)"
   ]
  },
  {
   "cell_type": "code",
   "execution_count": 28,
   "metadata": {},
   "outputs": [
    {
     "data": {
      "text/plain": [
       "0    9008985\n",
       "1    9229598\n",
       "2    9841568\n",
       "3    9372822\n",
       "4    8529357\n",
       "5    9229598\n",
       "6    9841568\n",
       "7    8529357\n",
       "8    9474991\n",
       "9    9008985\n",
       "Name: level_0, dtype: int64"
      ]
     },
     "execution_count": 28,
     "metadata": {},
     "output_type": "execute_result"
    }
   ],
   "source": [
    "duplicates.reset_index().level_0"
   ]
  },
  {
   "cell_type": "code",
   "execution_count": 37,
   "metadata": {},
   "outputs": [
    {
     "data": {
      "text/plain": [
       "9008985  9229598    1.0\n",
       "9229598  9008985    1.0\n",
       "9841568  9372822    1.0\n",
       "9372822  9841568    1.0\n",
       "8529357  9229598    2.0\n",
       "9229598  8529357    2.0\n",
       "9841568  9474991    3.0\n",
       "8529357  9008985    3.0\n",
       "9474991  9841568    3.0\n",
       "9008985  8529357    3.0\n",
       "dtype: float64"
      ]
     },
     "execution_count": 37,
     "metadata": {},
     "output_type": "execute_result"
    }
   ],
   "source": [
    "duplicates"
   ]
  },
  {
   "cell_type": "code",
   "execution_count": 32,
   "metadata": {},
   "outputs": [],
   "source": [
    "dupli_texts = df.loc[df.fulltext_id.isin(duplicates.reset_index().level_0)]"
   ]
  },
  {
   "cell_type": "code",
   "execution_count": 44,
   "metadata": {},
   "outputs": [
    {
     "data": {
      "text/plain": [
       "'Om \"Landbruket på Innherred\"\\n\"Landbruket på Innherred\" er eit prosjekt der \"utviklingen i omfang og betydning av landbruket i regionen synliggjøres, blant annet i forhold til antall gårdsbruk, produksjonsomfang, antall sysselsatte/årsverk, verdiskaping og ringvirkninger i ulike produksjoner. Det har også vært et ønske å synliggjøre skogbrukets betydning, og betydning av andre landbruksbaserte næringer (tilleggsnæringer).\"\\nKommunal forvaltning, tillitsvalde i landbruksnæringa og andre aktørar knytta til næringa har behov for dokumentasjon som kan synleggjera landbruket har å seie, situasjon og utviklingstrekk på kommunalt og regionalt nivå. Det er behov for dokumentasjon overfor\\nkommunal forvaltning\\nlandbruket sine tillitsvalde, som møter politikarar, ungdom (i forhold til rekrutteringsarbeid), bønder (for å setja fokus på samanhengane langs verdikjeder og for å motivera til auka verdiskaping)\\nandre næringar\\nLandbruksforum for Innherredskommunane ynsker òg å setja fokus på felles utfordringar for landbruket i regionen og styrka samarbeidet over tradisjonelle bygde- og kommunegrenser. For kommunane er det òg interessant å kunne samanlikna seg med kvarandre.\\nDette er utskriftsversjon av https://www.landbruksforum.no/innherred/info/?lang=nyn&vis=landbruksdata&tema_id=14&spm_id=23&viskommune=inder%C3%83%C2%83%C3%82%C2%83%C3%83%C2%82%C3%82%C2%83%C3%83%C2%83%C3%82%C2%82%C3%83%C2%82%C3%82%C2%83%C3%83%C2%83%C3%82%C2%83%C3%83%C2%82%C3%82%C2%82%C3%83%C2%83%C3%82%C2%82%C3%83%C2%82%C3%82%C2%83%C3%83%C2%83%C3%82%C2%83%C3%83%C2%82%C3%82%C2%83%C3%83%C2%83%C3%82%C2%82%C3%83%C2%82%C3%82%C2%82%C3%83%C2%83%C3%82%C2%83%C3%83%C2%82%C3%82%C2%82%C3%83%C2%83%C3%82%C2%82%C3%83%C2%82%C3%82%C2%83%C3%83%C2%83%C3%82%C2%83%C3%83%C2%82%C3%82%C2%83%C3%83%C2%83%C3%82%C2%82%C3%83%C2%82%C3%82%C2%83%C3%83%C2%83%C3%82%C2%83%C3%83%C2%82%C3%82%C2%82%C3%83%C2%83%C3%82%C2%82%C3%83%C2%82%C3%82%C2%82%C3%83%C2%83%C3%82%C2%83%C3%83%C2%82%C3%82%C2%83%C3%83%C2%83%C3%82%C2%82%C3%83%C2%82%C3%82%C2%82%C3%83%C2%83%C3%82%C2%83%C3%83%C2%82%C3%82%C2%82%C3%83%C2%83%C3%82%C2%82%C3%83%C2%82%C3%82%C2%83%C3%83%C2%83%C3%82%C2%83%C3%83%C2%82%C3%82%C2%83%C3%83%C2%83%C3%82%C2%82%C3%83%C2%82%C3%82%C2%83%C3%83%C2%83%C3%82%C2%83%C3%83%C2%82%C3%82%C2%82%C3%83%C2%83%C3%82%C2%82%C3%83%C2%82%C3%82%C2%83%C3%83%C2%83%C3%82%C2%83%C3%83%C2%82%C3%82%C2%83%C3%83%C2%83%C3%82%C2%82%C3%83%C2%82%C3%82%C2%82%C3%83%C2%83%C3%82%C2%83%C3%83%C2%82%C3%82%C2%82%C3%83%C2%83%C3%82%C2%82%C3%83%C2%82%C3%82%C2%82%C3%83%C2%83%C3%82%C2%83%C3%83%C2%82%C3%82%C2%83%C3%83%C2%83%C3%82%C2%82%C3%83%C2%82%C3%82%C2%83%C3%83%C2%83%C3%82%C2%83%C3%83%C2%82%C3%82%C2%82%C3%83%C2%83%C3%82%C2%82%C3%83%C2%82%C3%82%C2%82%C3%83%C2%83%C3%82%C2%83%C3%83%C2%82%C3%82%C2%83%C3%83%C2%83%C3%82%C2%82%C3%83%C2%82%C3%82%C2%82%C3%83%C2%83%C3%82%C2%83%C3%83%C2%82%C3%82%C2%82%C3%83%C2%83%C3%82%C2%82%C3%83%C2%82%C3%82%C2%83%C3%83%C2%83%C3%82%C2%83%C3%83%C2%82%C3%82%C2%83%C3%83%C2%83%C3%82%C2%82%C3%83%C2%82%C3%82%C2%83%C3%83%C2%83%C3%82%C2%83%C3%83%C2%82%C3%82%C2%82%C3%83%C2%83%C3%82%C2%82%C3%83%C2%82%C3%82%C2%83%C3%83%C2%83%C3%82%C2%83%C3%83%C2%82%C3%82%C2%83%C3%83%C2%83%C3%82%C2%82%C3%83%C2%82%C3%82%C2%82%C3%83%C2%83%C3%82%C2%83%C3%83%C2%82%C3%82%C2%82%C3%83%C2%83%C3%82%C2%82%C3%83%C2%82%C3%82%C2%83%C3%83%C2%83%C3%82%C2%83%C3%83%C2%82%C3%82%C2%83%C3%83%C2%83%C3%82%C2%82%C3%83%C2%82%C3%82%C2%83%C3%83%C2%83%C3%82%C2%83%C3%83%C2%82%C3%82%C2%82%C3%83%C2%83%C3%82%C2%82%C3%83%C2%82%C3%82%C2%82%C3%83%C2%83%C3%82%C2%83%C3%83%C2%82%C3%82%C2%83%C3%83%C2%83%C3%82%C2%82%C3%83%C2%82%C3%82%C2%82%C3%83%C2%83%C3%82%C2%83%C3%83%C2%82%C3%82%C2%82%C3%83%C2%83%C3%82%C2%82%C3%83%C2%82%C3%82%C2%82%C3%83%C2%83%C3%82%C2%83%C3%83%C2%82%C3%82%C2%83%C3%83%C2%83%C3%82%C2%82%C3%83%C2%82%C3%82%C2%83%C3%83%C2%83%C3%82%C2%83%C3%83%C2%82%C3%82%C2%82%C3%83%C2%83%C3%82%C2%82%C3%83%C2%82%C3%82%C2%83%C3%83%C2%83%C3%82%C2%83%C3%83%C2%82%C3%82%C2%83%C3%83%C2%83%C3%82%C2%82%C3%83%C2%82%C3%82%C2%82%C3%83%C2%83%C3%82%C2%83%C3%83%C2%82%C3%82%C2%82%C3%83%C2%83%C3%82%C2%82%C3%83%C2%82%C3%82%C2%82%C3%83%C2%83%C3%82%C2%83%C3%83%C2%82%C3%82%C2%83%C3%83%C2%83%C3%82%C2%82%C3%83%C2%82%C3%82%C2%83%C3%83%C2%83%C3%82%C2%83%C3%83%C2%82%C3%82%C2%82%C3%83%C2%83%C3%82%C2%82%C3%83%C2%82%C3%82%C2%82%C3%83%C2%83%C3%82%C2%83%C3%83%C2%82%C3%82%C2%83%C3%83%C2%83%C3%82%C2%82%C3%83%C2%82%C3%82%C2%82%C3%83%C2%83%C3%82%C2%83%C3%83%C2%82%C3%82%C2%82%C3%83%C2%83%C3%82%C2%82%C3%83%C2%82%C3%82%C2%B8y&vis_o_id=5'"
      ]
     },
     "execution_count": 44,
     "metadata": {},
     "output_type": "execute_result"
    }
   ],
   "source": [
    "df.loc[df.fulltext_id == 9474991].fulltext.values[0]"
   ]
  },
  {
   "cell_type": "code",
   "execution_count": 45,
   "metadata": {},
   "outputs": [
    {
     "data": {
      "text/plain": [
       "'\"Landbruket på Innherred\" er eit prosjekt der \"utviklingen i omfang og betydning av landbruket i regionen synliggjøres, blant annet i forhold til antall gårdsbruk, produksjonsomfang, antall sysselsatte/årsverk, verdiskaping og ringvirkninger i ulike produksjoner. Det har også vært et ønske å synliggjøre skogbrukets betydning, og betydning av andre landbruksbaserte næringer (tilleggsnæringer).\"\\nFoto toppbanner: Eva Pauline Hedegart\\nDette er utskriftsversjon av https://www.landbruksforum.no/innherred/info/index.php?lang=nyn&viskommune=inder%C3%83%C2%83%C3%82%C2%83%C3%83%C2%82%C3%82%C2%83%C3%83%C2%83%C3%82%C2%82%C3%83%C2%82%C3%82%C2%83%C3%83%C2%83%C3%82%C2%83%C3%83%C2%82%C3%82%C2%82%C3%83%C2%83%C3%82%C2%82%C3%83%C2%82%C3%82%C2%83%C3%83%C2%83%C3%82%C2%83%C3%83%C2%82%C3%82%C2%83%C3%83%C2%83%C3%82%C2%82%C3%83%C2%82%C3%82%C2%82%C3%83%C2%83%C3%82%C2%83%C3%83%C2%82%C3%82%C2%82%C3%83%C2%83%C3%82%C2%82%C3%83%C2%82%C3%82%C2%83%C3%83%C2%83%C3%82%C2%83%C3%83%C2%82%C3%82%C2%83%C3%83%C2%83%C3%82%C2%82%C3%83%C2%82%C3%82%C2%83%C3%83%C2%83%C3%82%C2%83%C3%83%C2%82%C3%82%C2%82%C3%83%C2%83%C3%82%C2%82%C3%83%C2%82%C3%82%C2%82%C3%83%C2%83%C3%82%C2%83%C3%83%C2%82%C3%82%C2%83%C3%83%C2%83%C3%82%C2%82%C3%83%C2%82%C3%82%C2%82%C3%83%C2%83%C3%82%C2%83%C3%83%C2%82%C3%82%C2%82%C3%83%C2%83%C3%82%C2%82%C3%83%C2%82%C3%82%C2%83%C3%83%C2%83%C3%82%C2%83%C3%83%C2%82%C3%82%C2%83%C3%83%C2%83%C3%82%C2%82%C3%83%C2%82%C3%82%C2%83%C3%83%C2%83%C3%82%C2%83%C3%83%C2%82%C3%82%C2%82%C3%83%C2%83%C3%82%C2%82%C3%83%C2%82%C3%82%C2%83%C3%83%C2%83%C3%82%C2%83%C3%83%C2%82%C3%82%C2%83%C3%83%C2%83%C3%82%C2%82%C3%83%C2%82%C3%82%C2%82%C3%83%C2%83%C3%82%C2%83%C3%83%C2%82%C3%82%C2%82%C3%83%C2%83%C3%82%C2%82%C3%83%C2%82%C3%82%C2%82%C3%83%C2%83%C3%82%C2%83%C3%83%C2%82%C3%82%C2%83%C3%83%C2%83%C3%82%C2%82%C3%83%C2%82%C3%82%C2%83%C3%83%C2%83%C3%82%C2%83%C3%83%C2%82%C3%82%C2%82%C3%83%C2%83%C3%82%C2%82%C3%83%C2%82%C3%82%C2%82%C3%83%C2%83%C3%82%C2%83%C3%83%C2%82%C3%82%C2%83%C3%83%C2%83%C3%82%C2%82%C3%83%C2%82%C3%82%C2%82%C3%83%C2%83%C3%82%C2%83%C3%83%C2%82%C3%82%C2%82%C3%83%C2%83%C3%82%C2%82%C3%83%C2%82%C3%82%C2%83%C3%83%C2%83%C3%82%C2%83%C3%83%C2%82%C3%82%C2%83%C3%83%C2%83%C3%82%C2%82%C3%83%C2%82%C3%82%C2%83%C3%83%C2%83%C3%82%C2%83%C3%83%C2%82%C3%82%C2%82%C3%83%C2%83%C3%82%C2%82%C3%83%C2%82%C3%82%C2%83%C3%83%C2%83%C3%82%C2%83%C3%83%C2%82%C3%82%C2%83%C3%83%C2%83%C3%82%C2%82%C3%83%C2%82%C3%82%C2%82%C3%83%C2%83%C3%82%C2%83%C3%83%C2%82%C3%82%C2%82%C3%83%C2%83%C3%82%C2%82%C3%83%C2%82%C3%82%C2%83%C3%83%C2%83%C3%82%C2%83%C3%83%C2%82%C3%82%C2%83%C3%83%C2%83%C3%82%C2%82%C3%83%C2%82%C3%82%C2%83%C3%83%C2%83%C3%82%C2%83%C3%83%C2%82%C3%82%C2%82%C3%83%C2%83%C3%82%C2%82%C3%83%C2%82%C3%82%C2%82%C3%83%C2%83%C3%82%C2%83%C3%83%C2%82%C3%82%C2%83%C3%83%C2%83%C3%82%C2%82%C3%83%C2%82%C3%82%C2%82%C3%83%C2%83%C3%82%C2%83%C3%83%C2%82%C3%82%C2%82%C3%83%C2%83%C3%82%C2%82%C3%83%C2%82%C3%82%C2%82%C3%83%C2%83%C3%82%C2%83%C3%83%C2%82%C3%82%C2%83%C3%83%C2%83%C3%82%C2%82%C3%83%C2%82%C3%82%C2%83%C3%83%C2%83%C3%82%C2%83%C3%83%C2%82%C3%82%C2%82%C3%83%C2%83%C3%82%C2%82%C3%83%C2%82%C3%82%C2%83%C3%83%C2%83%C3%82%C2%83%C3%83%C2%82%C3%82%C2%83%C3%83%C2%83%C3%82%C2%82%C3%83%C2%82%C3%82%C2%82%C3%83%C2%83%C3%82%C2%83%C3%83%C2%82%C3%82%C2%82%C3%83%C2%83%C3%82%C2%82%C3%83%C2%82%C3%82%C2%82%C3%83%C2%83%C3%82%C2%83%C3%83%C2%82%C3%82%C2%83%C3%83%C2%83%C3%82%C2%82%C3%83%C2%82%C3%82%C2%83%C3%83%C2%83%C3%82%C2%83%C3%83%C2%82%C3%82%C2%82%C3%83%C2%83%C3%82%C2%82%C3%83%C2%82%C3%82%C2%82%C3%83%C2%83%C3%82%C2%83%C3%83%C2%82%C3%82%C2%83%C3%83%C2%83%C3%82%C2%82%C3%83%C2%82%C3%82%C2%82%C3%83%C2%83%C3%82%C2%83%C3%83%C2%82%C3%82%C2%82%C3%83%C2%83%C3%82%C2%82%C3%83%C2%82%C3%82%C2%B8y&vis_o_id=5&tema_id=4&spm_id=19'"
      ]
     },
     "execution_count": 45,
     "metadata": {},
     "output_type": "execute_result"
    }
   ],
   "source": [
    "df.loc[df.fulltext_id == 9841568].fulltext.values[0]"
   ]
  },
  {
   "cell_type": "code",
   "execution_count": 43,
   "metadata": {},
   "outputs": [
    {
     "data": {
      "text/html": [
       "<div>\n",
       "<style scoped>\n",
       "    .dataframe tbody tr th:only-of-type {\n",
       "        vertical-align: middle;\n",
       "    }\n",
       "\n",
       "    .dataframe tbody tr th {\n",
       "        vertical-align: top;\n",
       "    }\n",
       "\n",
       "    .dataframe thead th {\n",
       "        text-align: right;\n",
       "    }\n",
       "</style>\n",
       "<table border=\"1\" class=\"dataframe\">\n",
       "  <thead>\n",
       "    <tr style=\"text-align: right;\">\n",
       "      <th></th>\n",
       "      <th>fulltext_id</th>\n",
       "      <th>hash</th>\n",
       "      <th>fulltext</th>\n",
       "    </tr>\n",
       "  </thead>\n",
       "  <tbody>\n",
       "    <tr>\n",
       "      <th>34</th>\n",
       "      <td>9229598</td>\n",
       "      <td>f1731238982eede2eb4fcc7b59fa1c64663edd77</td>\n",
       "      <td>Begrepsavklaring og avgrensing\\nJordbruk\\nJord...</td>\n",
       "    </tr>\n",
       "    <tr>\n",
       "      <th>36</th>\n",
       "      <td>9841568</td>\n",
       "      <td>72240c05d7bc9cee6017f6e559178f3ab2e1d293</td>\n",
       "      <td>\"Landbruket på Innherred\" er eit prosjekt der ...</td>\n",
       "    </tr>\n",
       "    <tr>\n",
       "      <th>138</th>\n",
       "      <td>8529357</td>\n",
       "      <td>e78c50c092d84416bcd5fde8000c200dfcecd3bf</td>\n",
       "      <td>Begrepsavklaring og avgrensing\\nJordbruk\\nJord...</td>\n",
       "    </tr>\n",
       "    <tr>\n",
       "      <th>144</th>\n",
       "      <td>9008985</td>\n",
       "      <td>ca8fce5fb18150d0bd405af76fd066854de1b8dd</td>\n",
       "      <td>Begrepsavklaring og avgrensing\\nJordbruk\\nJord...</td>\n",
       "    </tr>\n",
       "    <tr>\n",
       "      <th>147</th>\n",
       "      <td>9372822</td>\n",
       "      <td>a980a7ffb70783f6e18b95bee342646772f30f88</td>\n",
       "      <td>Verdal kommune Innbyggertall 14.162 * Flateare...</td>\n",
       "    </tr>\n",
       "    <tr>\n",
       "      <th>148</th>\n",
       "      <td>9474991</td>\n",
       "      <td>99da02dbadaf8fcd49f5e5bca1f56ebf663b1069</td>\n",
       "      <td>Om \"Landbruket på Innherred\"\\n\"Landbruket på I...</td>\n",
       "    </tr>\n",
       "  </tbody>\n",
       "</table>\n",
       "</div>"
      ],
      "text/plain": [
       "     fulltext_id                                      hash  \\\n",
       "34       9229598  f1731238982eede2eb4fcc7b59fa1c64663edd77   \n",
       "36       9841568  72240c05d7bc9cee6017f6e559178f3ab2e1d293   \n",
       "138      8529357  e78c50c092d84416bcd5fde8000c200dfcecd3bf   \n",
       "144      9008985  ca8fce5fb18150d0bd405af76fd066854de1b8dd   \n",
       "147      9372822  a980a7ffb70783f6e18b95bee342646772f30f88   \n",
       "148      9474991  99da02dbadaf8fcd49f5e5bca1f56ebf663b1069   \n",
       "\n",
       "                                              fulltext  \n",
       "34   Begrepsavklaring og avgrensing\\nJordbruk\\nJord...  \n",
       "36   \"Landbruket på Innherred\" er eit prosjekt der ...  \n",
       "138  Begrepsavklaring og avgrensing\\nJordbruk\\nJord...  \n",
       "144  Begrepsavklaring og avgrensing\\nJordbruk\\nJord...  \n",
       "147  Verdal kommune Innbyggertall 14.162 * Flateare...  \n",
       "148  Om \"Landbruket på Innherred\"\\n\"Landbruket på I...  "
      ]
     },
     "execution_count": 43,
     "metadata": {},
     "output_type": "execute_result"
    }
   ],
   "source": [
    "dupli_texts"
   ]
  },
  {
   "cell_type": "code",
   "execution_count": 36,
   "metadata": {},
   "outputs": [
    {
     "name": "stdout",
     "output_type": "stream",
     "text": [
      "Begrepsavklaring og avgrensing\n",
      "Jordbruk\n",
      "Jordbruk defineres som tradisjonell produksjon av jord- og hagebruksråvarer som mjølk, kjøt, ull, honning, egg, korn, oljefrø, erter, frukt, bær, poteter, grønnsaker, blomedyrking og andre jordbruksproduksjonar (pelsdyr, hjorteoppdrett, birøkt med meir). Det handlar her om tradisjonelt husdyrhald og planteproduksjon (dette femnar òg utleige av jordbruksareal til jordbruksaktivitet og utleige av maskiner i mindre målestokk).\n",
      "Tilleggsnæringar\n",
      "Næringsaktivitet på gardsbruk/landbrukseigedom som vert driven i tillegg til tradisjonelt landbruk, der ein eller flere av bruket sine ressursar (areal, bygningar, maskiner og landbruksråvarer) høyrer med som faktorinnsats i produksjonen.\n",
      "Produksjonsverdi (omsetning)\n",
      "Summen av salsinntekter (markedsinntekter) og produksjonstilskot\n",
      "Verdiskaping\n",
      "Fleire mål kan nyttast for å kasta lys over verdiskapinga i landbruksrelatert næringsvverksemd. Vi har her definert verdiskapinga som nettoprodukt, det vil sei det som er igjen til godtgjering av arbeidsinnsats (løn) og avkastning på innsatt kapital når alle andre produksjonsfaktorar er godtgjort.\n",
      "Ringverknader\n",
      "Inntektsdanninga som kjem direkte av næringsverksemda kallar vi direkte lokaløkonomiske verknader. I dette tilfellet er det landbruket sin produksjonsverdi i kommunane. Inntekter som med utgangspunkt i denne verksemda ellers vert generert til lokalsamfunnet, kallar vi ringverknader (eller indirekte lokaløkonomiske verknader). Summen av direkte lokaløkonomiske verknader og ringverknader, kallar vi totale lokaløkonomiske verknader. Utrekning av ringverknader er ei ressurskrevande oppgåve. Utrekningar for lokalnivå vert derfor ofte gjort ved hjelp av multiplikatorar utrekna for eit større område. Den rekneskapsmessige omsetninga vert brukt som mål på verdien av den produksjonen utrekningane er basert på.\n",
      "Dette er utskriftsversjon av https://www.landbruksforum.no/innherred/info/?lang=nyn&vis=begrep&viskommune=levanger&vis_o_id=2&tema_id=9&spm_id=76 \n",
      "\n",
      "\n",
      "\"Landbruket på Innherred\" er eit prosjekt der \"utviklingen i omfang og betydning av landbruket i regionen synliggjøres, blant annet i forhold til antall gårdsbruk, produksjonsomfang, antall sysselsatte/årsverk, verdiskaping og ringvirkninger i ulike produksjoner. Det har også vært et ønske å synliggjøre skogbrukets betydning, og betydning av andre landbruksbaserte næringer (tilleggsnæringer).\"\n",
      "Foto toppbanner: Eva Pauline Hedegart\n",
      "Dette er utskriftsversjon av https://www.landbruksforum.no/innherred/info/index.php?lang=nyn&viskommune=inder%C3%83%C2%83%C3%82%C2%83%C3%83%C2%82%C3%82%C2%83%C3%83%C2%83%C3%82%C2%82%C3%83%C2%82%C3%82%C2%83%C3%83%C2%83%C3%82%C2%83%C3%83%C2%82%C3%82%C2%82%C3%83%C2%83%C3%82%C2%82%C3%83%C2%82%C3%82%C2%83%C3%83%C2%83%C3%82%C2%83%C3%83%C2%82%C3%82%C2%83%C3%83%C2%83%C3%82%C2%82%C3%83%C2%82%C3%82%C2%82%C3%83%C2%83%C3%82%C2%83%C3%83%C2%82%C3%82%C2%82%C3%83%C2%83%C3%82%C2%82%C3%83%C2%82%C3%82%C2%83%C3%83%C2%83%C3%82%C2%83%C3%83%C2%82%C3%82%C2%83%C3%83%C2%83%C3%82%C2%82%C3%83%C2%82%C3%82%C2%83%C3%83%C2%83%C3%82%C2%83%C3%83%C2%82%C3%82%C2%82%C3%83%C2%83%C3%82%C2%82%C3%83%C2%82%C3%82%C2%82%C3%83%C2%83%C3%82%C2%83%C3%83%C2%82%C3%82%C2%83%C3%83%C2%83%C3%82%C2%82%C3%83%C2%82%C3%82%C2%82%C3%83%C2%83%C3%82%C2%83%C3%83%C2%82%C3%82%C2%82%C3%83%C2%83%C3%82%C2%82%C3%83%C2%82%C3%82%C2%83%C3%83%C2%83%C3%82%C2%83%C3%83%C2%82%C3%82%C2%83%C3%83%C2%83%C3%82%C2%82%C3%83%C2%82%C3%82%C2%83%C3%83%C2%83%C3%82%C2%83%C3%83%C2%82%C3%82%C2%82%C3%83%C2%83%C3%82%C2%82%C3%83%C2%82%C3%82%C2%83%C3%83%C2%83%C3%82%C2%83%C3%83%C2%82%C3%82%C2%83%C3%83%C2%83%C3%82%C2%82%C3%83%C2%82%C3%82%C2%82%C3%83%C2%83%C3%82%C2%83%C3%83%C2%82%C3%82%C2%82%C3%83%C2%83%C3%82%C2%82%C3%83%C2%82%C3%82%C2%82%C3%83%C2%83%C3%82%C2%83%C3%83%C2%82%C3%82%C2%83%C3%83%C2%83%C3%82%C2%82%C3%83%C2%82%C3%82%C2%83%C3%83%C2%83%C3%82%C2%83%C3%83%C2%82%C3%82%C2%82%C3%83%C2%83%C3%82%C2%82%C3%83%C2%82%C3%82%C2%82%C3%83%C2%83%C3%82%C2%83%C3%83%C2%82%C3%82%C2%83%C3%83%C2%83%C3%82%C2%82%C3%83%C2%82%C3%82%C2%82%C3%83%C2%83%C3%82%C2%83%C3%83%C2%82%C3%82%C2%82%C3%83%C2%83%C3%82%C2%82%C3%83%C2%82%C3%82%C2%83%C3%83%C2%83%C3%82%C2%83%C3%83%C2%82%C3%82%C2%83%C3%83%C2%83%C3%82%C2%82%C3%83%C2%82%C3%82%C2%83%C3%83%C2%83%C3%82%C2%83%C3%83%C2%82%C3%82%C2%82%C3%83%C2%83%C3%82%C2%82%C3%83%C2%82%C3%82%C2%83%C3%83%C2%83%C3%82%C2%83%C3%83%C2%82%C3%82%C2%83%C3%83%C2%83%C3%82%C2%82%C3%83%C2%82%C3%82%C2%82%C3%83%C2%83%C3%82%C2%83%C3%83%C2%82%C3%82%C2%82%C3%83%C2%83%C3%82%C2%82%C3%83%C2%82%C3%82%C2%83%C3%83%C2%83%C3%82%C2%83%C3%83%C2%82%C3%82%C2%83%C3%83%C2%83%C3%82%C2%82%C3%83%C2%82%C3%82%C2%83%C3%83%C2%83%C3%82%C2%83%C3%83%C2%82%C3%82%C2%82%C3%83%C2%83%C3%82%C2%82%C3%83%C2%82%C3%82%C2%82%C3%83%C2%83%C3%82%C2%83%C3%83%C2%82%C3%82%C2%83%C3%83%C2%83%C3%82%C2%82%C3%83%C2%82%C3%82%C2%82%C3%83%C2%83%C3%82%C2%83%C3%83%C2%82%C3%82%C2%82%C3%83%C2%83%C3%82%C2%82%C3%83%C2%82%C3%82%C2%82%C3%83%C2%83%C3%82%C2%83%C3%83%C2%82%C3%82%C2%83%C3%83%C2%83%C3%82%C2%82%C3%83%C2%82%C3%82%C2%83%C3%83%C2%83%C3%82%C2%83%C3%83%C2%82%C3%82%C2%82%C3%83%C2%83%C3%82%C2%82%C3%83%C2%82%C3%82%C2%83%C3%83%C2%83%C3%82%C2%83%C3%83%C2%82%C3%82%C2%83%C3%83%C2%83%C3%82%C2%82%C3%83%C2%82%C3%82%C2%82%C3%83%C2%83%C3%82%C2%83%C3%83%C2%82%C3%82%C2%82%C3%83%C2%83%C3%82%C2%82%C3%83%C2%82%C3%82%C2%82%C3%83%C2%83%C3%82%C2%83%C3%83%C2%82%C3%82%C2%83%C3%83%C2%83%C3%82%C2%82%C3%83%C2%82%C3%82%C2%83%C3%83%C2%83%C3%82%C2%83%C3%83%C2%82%C3%82%C2%82%C3%83%C2%83%C3%82%C2%82%C3%83%C2%82%C3%82%C2%82%C3%83%C2%83%C3%82%C2%83%C3%83%C2%82%C3%82%C2%83%C3%83%C2%83%C3%82%C2%82%C3%83%C2%82%C3%82%C2%82%C3%83%C2%83%C3%82%C2%83%C3%83%C2%82%C3%82%C2%82%C3%83%C2%83%C3%82%C2%82%C3%83%C2%82%C3%82%C2%B8y&vis_o_id=5&tema_id=4&spm_id=19 \n",
      "\n",
      "\n",
      "Begrepsavklaring og avgrensing\n",
      "Jordbruk\n",
      "Jordbruk defineres som tradisjonell produksjon av jord- og hagebruksråvarer som mjølk, kjøt, ull, honning, egg, korn, oljefrø, erter, frukt, bær, poteter, grønnsaker, blomedyrking og andre jordbruksproduksjonar (pelsdyr, hjorteoppdrett, birøkt med meir). Det handlar her om tradisjonelt husdyrhald og planteproduksjon (dette femnar òg utleige av jordbruksareal til jordbruksaktivitet og utleige av maskiner i mindre målestokk).\n",
      "Tilleggsnæringar\n",
      "Næringsaktivitet på gardsbruk/landbrukseigedom som vert driven i tillegg til tradisjonelt landbruk, der ein eller flere av bruket sine ressursar (areal, bygningar, maskiner og landbruksråvarer) høyrer med som faktorinnsats i produksjonen.\n",
      "Produksjonsverdi (omsetning)\n",
      "Summen av salsinntekter (markedsinntekter) og produksjonstilskot\n",
      "Verdiskaping\n",
      "Fleire mål kan nyttast for å kasta lys over verdiskapinga i landbruksrelatert næringsvverksemd. Vi har her definert verdiskapinga som nettoprodukt, det vil sei det som er igjen til godtgjering av arbeidsinnsats (løn) og avkastning på innsatt kapital når alle andre produksjonsfaktorar er godtgjort.\n",
      "Ringverknader\n",
      "Inntektsdanninga som kjem direkte av næringsverksemda kallar vi direkte lokaløkonomiske verknader. I dette tilfellet er det landbruket sin produksjonsverdi i kommunane. Inntekter som med utgangspunkt i denne verksemda ellers vert generert til lokalsamfunnet, kallar vi ringverknader (eller indirekte lokaløkonomiske verknader). Summen av direkte lokaløkonomiske verknader og ringverknader, kallar vi totale lokaløkonomiske verknader. Utrekning av ringverknader er ei ressurskrevande oppgåve. Utrekningar for lokalnivå vert derfor ofte gjort ved hjelp av multiplikatorar utrekna for eit større område. Den rekneskapsmessige omsetninga vert brukt som mål på verdien av den produksjonen utrekningane er basert på.\n",
      "Dette er utskriftsversjon av https://www.landbruksforum.no/innherred/info/?viskommune=verdal&vis_o_id=3&vis_o_id=3&vis=begrep&lang=nyn&tema_id=7 \n",
      "\n",
      "\n",
      "Begrepsavklaring og avgrensing\n",
      "Jordbruk\n",
      "Jordbruk defineres som tradisjonell produksjon av jord- og hagebruksråvarer som mjølk, kjøt, ull, honning, egg, korn, oljefrø, erter, frukt, bær, poteter, grønnsaker, blomedyrking og andre jordbruksproduksjonar (pelsdyr, hjorteoppdrett, birøkt med meir). Det handlar her om tradisjonelt husdyrhald og planteproduksjon (dette femnar òg utleige av jordbruksareal til jordbruksaktivitet og utleige av maskiner i mindre målestokk).\n",
      "Tilleggsnæringar\n",
      "Næringsaktivitet på gardsbruk/landbrukseigedom som vert driven i tillegg til tradisjonelt landbruk, der ein eller flere av bruket sine ressursar (areal, bygningar, maskiner og landbruksråvarer) høyrer med som faktorinnsats i produksjonen.\n",
      "Produksjonsverdi (omsetning)\n",
      "Summen av salsinntekter (markedsinntekter) og produksjonstilskot\n",
      "Verdiskaping\n",
      "Fleire mål kan nyttast for å kasta lys over verdiskapinga i landbruksrelatert næringsvverksemd. Vi har her definert verdiskapinga som nettoprodukt, det vil sei det som er igjen til godtgjering av arbeidsinnsats (løn) og avkastning på innsatt kapital når alle andre produksjonsfaktorar er godtgjort.\n",
      "Ringverknader\n",
      "Inntektsdanninga som kjem direkte av næringsverksemda kallar vi direkte lokaløkonomiske verknader. I dette tilfellet er det landbruket sin produksjonsverdi i kommunane. Inntekter som med utgangspunkt i denne verksemda ellers vert generert til lokalsamfunnet, kallar vi ringverknader (eller indirekte lokaløkonomiske verknader). Summen av direkte lokaløkonomiske verknader og ringverknader, kallar vi totale lokaløkonomiske verknader. Utrekning av ringverknader er ei ressurskrevande oppgåve. Utrekningar for lokalnivå vert derfor ofte gjort ved hjelp av multiplikatorar utrekna for eit større område. Den rekneskapsmessige omsetninga vert brukt som mål på verdien av den produksjonen utrekningane er basert på.\n",
      "Dette er utskriftsversjon av https://www.landbruksforum.no/innherred/info/?viskommune=levanger&vis_o_id=2&lang=nyn&tema_id=14&spm_id=28&utskriftsversjon=1 \n",
      "\n",
      "\n",
      "Verdal kommune Innbyggertall 14.162 * Flateareal 1.547 km²\n",
      "Verran kommune Innbyggertall 2.937 * Flateareal 601 km²\n",
      "Dette er utskriftsversjon av https://www.landbruksforum.no/innherred/info/?lang=bok&vis=innherredlandbruksforum&tema_id=17&viskommune=inder%C3%83%C2%83%C3%82%C2%83%C3%83%C2%82%C3%82%C2%83%C3%83%C2%83%C3%82%C2%82%C3%83%C2%82%C3%82%C2%83%C3%83%C2%83%C3%82%C2%83%C3%83%C2%82%C3%82%C2%82%C3%83%C2%83%C3%82%C2%82%C3%83%C2%82%C3%82%C2%83%C3%83%C2%83%C3%82%C2%83%C3%83%C2%82%C3%82%C2%83%C3%83%C2%83%C3%82%C2%82%C3%83%C2%82%C3%82%C2%82%C3%83%C2%83%C3%82%C2%83%C3%83%C2%82%C3%82%C2%82%C3%83%C2%83%C3%82%C2%82%C3%83%C2%82%C3%82%C2%83%C3%83%C2%83%C3%82%C2%83%C3%83%C2%82%C3%82%C2%83%C3%83%C2%83%C3%82%C2%82%C3%83%C2%82%C3%82%C2%83%C3%83%C2%83%C3%82%C2%83%C3%83%C2%82%C3%82%C2%82%C3%83%C2%83%C3%82%C2%82%C3%83%C2%82%C3%82%C2%82%C3%83%C2%83%C3%82%C2%83%C3%83%C2%82%C3%82%C2%83%C3%83%C2%83%C3%82%C2%82%C3%83%C2%82%C3%82%C2%82%C3%83%C2%83%C3%82%C2%83%C3%83%C2%82%C3%82%C2%82%C3%83%C2%83%C3%82%C2%82%C3%83%C2%82%C3%82%C2%83%C3%83%C2%83%C3%82%C2%83%C3%83%C2%82%C3%82%C2%83%C3%83%C2%83%C3%82%C2%82%C3%83%C2%82%C3%82%C2%83%C3%83%C2%83%C3%82%C2%83%C3%83%C2%82%C3%82%C2%82%C3%83%C2%83%C3%82%C2%82%C3%83%C2%82%C3%82%C2%83%C3%83%C2%83%C3%82%C2%83%C3%83%C2%82%C3%82%C2%83%C3%83%C2%83%C3%82%C2%82%C3%83%C2%82%C3%82%C2%82%C3%83%C2%83%C3%82%C2%83%C3%83%C2%82%C3%82%C2%82%C3%83%C2%83%C3%82%C2%82%C3%83%C2%82%C3%82%C2%82%C3%83%C2%83%C3%82%C2%83%C3%83%C2%82%C3%82%C2%83%C3%83%C2%83%C3%82%C2%82%C3%83%C2%82%C3%82%C2%83%C3%83%C2%83%C3%82%C2%83%C3%83%C2%82%C3%82%C2%82%C3%83%C2%83%C3%82%C2%82%C3%83%C2%82%C3%82%C2%82%C3%83%C2%83%C3%82%C2%83%C3%83%C2%82%C3%82%C2%83%C3%83%C2%83%C3%82%C2%82%C3%83%C2%82%C3%82%C2%82%C3%83%C2%83%C3%82%C2%83%C3%83%C2%82%C3%82%C2%82%C3%83%C2%83%C3%82%C2%82%C3%83%C2%82%C3%82%C2%83%C3%83%C2%83%C3%82%C2%83%C3%83%C2%82%C3%82%C2%83%C3%83%C2%83%C3%82%C2%82%C3%83%C2%82%C3%82%C2%83%C3%83%C2%83%C3%82%C2%83%C3%83%C2%82%C3%82%C2%82%C3%83%C2%83%C3%82%C2%82%C3%83%C2%82%C3%82%C2%83%C3%83%C2%83%C3%82%C2%83%C3%83%C2%82%C3%82%C2%83%C3%83%C2%83%C3%82%C2%82%C3%83%C2%82%C3%82%C2%82%C3%83%C2%83%C3%82%C2%83%C3%83%C2%82%C3%82%C2%82%C3%83%C2%83%C3%82%C2%82%C3%83%C2%82%C3%82%C2%83%C3%83%C2%83%C3%82%C2%83%C3%83%C2%82%C3%82%C2%83%C3%83%C2%83%C3%82%C2%82%C3%83%C2%82%C3%82%C2%83%C3%83%C2%83%C3%82%C2%83%C3%83%C2%82%C3%82%C2%82%C3%83%C2%83%C3%82%C2%82%C3%83%C2%82%C3%82%C2%82%C3%83%C2%83%C3%82%C2%83%C3%83%C2%82%C3%82%C2%83%C3%83%C2%83%C3%82%C2%82%C3%83%C2%82%C3%82%C2%82%C3%83%C2%83%C3%82%C2%83%C3%83%C2%82%C3%82%C2%82%C3%83%C2%83%C3%82%C2%82%C3%83%C2%82%C3%82%C2%82%C3%83%C2%83%C3%82%C2%83%C3%83%C2%82%C3%82%C2%83%C3%83%C2%83%C3%82%C2%82%C3%83%C2%82%C3%82%C2%83%C3%83%C2%83%C3%82%C2%83%C3%83%C2%82%C3%82%C2%82%C3%83%C2%83%C3%82%C2%82%C3%83%C2%82%C3%82%C2%83%C3%83%C2%83%C3%82%C2%83%C3%83%C2%82%C3%82%C2%83%C3%83%C2%83%C3%82%C2%82%C3%83%C2%82%C3%82%C2%82%C3%83%C2%83%C3%82%C2%83%C3%83%C2%82%C3%82%C2%82%C3%83%C2%83%C3%82%C2%82%C3%83%C2%82%C3%82%C2%82%C3%83%C2%83%C3%82%C2%83%C3%83%C2%82%C3%82%C2%83%C3%83%C2%83%C3%82%C2%82%C3%83%C2%82%C3%82%C2%83%C3%83%C2%83%C3%82%C2%83%C3%83%C2%82%C3%82%C2%82%C3%83%C2%83%C3%82%C2%82%C3%83%C2%82%C3%82%C2%82%C3%83%C2%83%C3%82%C2%83%C3%83%C2%82%C3%82%C2%83%C3%83%C2%83%C3%82%C2%82%C3%83%C2%82%C3%82%C2%82%C3%83%C2%83%C3%82%C2%83%C3%83%C2%82%C3%82%C2%82%C3%83%C2%83%C3%82%C2%82%C3%83%C2%82%C3%82%C2%83%C3%83%C2%83%C3%82%C2%83%C3%83%C2%82%C3%82%C2%83%C3%83%C2%83%C3%82%C2%82%C3%83%C2%82%C3%82%C2%83%C3%83%C2%83%C3%82%C2%83%C3%83%C2%82%C3%82%C2%82%C3%83%C2%83%C3%82%C2%82%C3%83%C2%82%C3%82%C2%83%C3%83%C2%83%C3%82%C2%83%C3%83%C2%82%C3%82%C2%83%C3%83%C2%83%C3%82%C2%82%C3%83%C2%82%C3%82%C2%82%C3%83%C2%83%C3%82%C2%83%C3%83%C2%82%C3%82%C2%82%C3%83%C2%83%C3%82%C2%82%C3%83%C2%82%C3%82%C2%83%C3%83%C2%83%C3%82%C2%83%C3%83%C2%82%C3%82%C2%83%C3%83%C2%83%C3%82%C2%82%C3%83%C2%82%C3%82%C2%83%C3%83%C2%83%C3%82%C2%83%C3%83%C2%82%C3%82%C2%82%C3%83%C2%83%C3%82%C2%82%C3%83%C2%82%C3%82%C2%82%C3%83%C2%83%C3%82%C2%83%C3%83%C2%82%C3%82%C2%83%C3%83%C2%83%C3%82%C2%82%C3%83%C2%82%C3%82%C2%82%C3%83%C2%83%C3%82%C2%83%C3%83%C2%82%C3%82%C2%82%C3%83%C2%83%C3%82%C2%82%C3%83%C2%82%C3%82%C2%83%C3%83%C2%83%C3%82%C2%83%C3%83%C2%82%C3%82%C2%83%C3%83%C2%83%C3%82%C2%82%C3%83%C2%82%C3%82%C2%83%C3%83%C2%83%C3%82%C2%83%C3%83%C2%82%C3%82%C2%82%C3%83%C2%83%C3%82%C2%82%C3%83%C2%82%C3%82%C2%83%C3%83%C2%83%C3%82%C2%83%C3%83%C2%82%C3%82%C2%83%C3%83%C2%83%C3%82%C2%82%C3%83%C2%82%C3%82%C2%82%C3%83%C2%83%C3%82%C2%83%C3%83%C2%82%C3%82%C2%82%C3%83%C2%83%C3%82%C2%82%C3%83%C2%82%C3%82%C2%82%C3%83%C2%83%C3%82%C2%83%C3%83%C2%82%C3%82%C2%83%C3%83%C2%83%C3%82%C2%82%C3%83%C2%82%C3%82%C2%83%C3%83%C2%83%C3%82%C2%83%C3%83%C2%82%C3%82%C2%82%C3%83%C2%83%C3%82%C2%82%C3%83%C2%82%C3%82%C2%82%C3%83%C2%83%C3%82%C2%83%C3%83%C2%82%C3%82%C2%83%C3%83%C2%83%C3%82%C2%82%C3%83%C2%82%C3%82%C2%82%C3%83%C2%83%C3%82%C2%83%C3%83%C2%82%C3%82%C2%82%C3%83%C2%83%C3%82%C2%82%C3%83%C2%82%C3%82%C2%82%C3%83%C2%83%C3%82%C2%83%C3%83%C2%82%C3%82%C2%83%C3%83%C2%83%C3%82%C2%82%C3%83%C2%82%C3%82%C2%83%C3%83%C2%83%C3%82%C2%83%C3%83%C2%82%C3%82%C2%82%C3%83%C2%83%C3%82%C2%82%C3%83%C2%82%C3%82%C2%83%C3%83%C2%83%C3%82%C2%83%C3%83%C2%82%C3%82%C2%83%C3%83%C2%83%C3%82%C2%82%C3%83%C2%82%C3%82%C2%82%C3%83%C2%83%C3%82%C2%83%C3%83%C2%82%C3%82%C2%82%C3%83%C2%83%C3%82%C2%82%C3%83%C2%82%C3%82%C2%83%C3%83%C2%83%C3%82%C2%83%C3%83%C2%82%C3%82%C2%83%C3%83%C2%83%C3%82%C2%82%C3%83%C2%82%C3%82%C2%83%C3%83%C2%83%C3%82%C2%83%C3%83%C2%82%C3%82%C2%82%C3%83%C2%83%C3%82%C2%82%C3%83%C2%82%C3%82%C2%82%C3%83%C2%83%C3%82%C2%83%C3%83%C2%82%C3%82%C2%83%C3%83%C2%83%C3%82%C2%82%C3%83%C2%82%C3%82%C2%82%C3%83%C2%83%C3%82%C2%83%C3%83%C2%82%C3%82%C2%82%C3%83%C2%83%C3%82%C2%82%C3%83%C2%82%C3%82%C2%82%C3%83%C2%83%C3%82%C2%83%C3%83%C2%82%C3%82%C2%83%C3%83%C2%83%C3%82%C2%82%C3%83%C2%82%C3%82%C2%83%C3%83%C2%83%C3%82%C2%83%C3%83%C2%82%C3%82%C2%82%C3%83%C2%83%C3%82%C2%82%C3%83%C2%82%C3%82%C2%83%C3%83%C2%83%C3%82%C2%83%C3%83%C2%82%C3%82%C2%83%C3%83%C2%83%C3%82%C2%82%C3%83%C2%82%C3%82%C2%82%C3%83%C2%83%C3%82%C2%83%C3%83%C2%82%C3%82%C2%82%C3%83%C2%83%C3%82%C2%82%C3%83%C2%82%C3%82%C2%82%C3%83%C2%83%C3%82%C2%83%C3%83%C2%82%C3%82%C2%83%C3%83%C2%83%C3%82%C2%82%C3%83%C2%82%C3%82%C2%83%C3%83%C2%83%C3%82%C2%83%C3%83%C2%82%C3%82%C2%82%C3%83%C2%83%C3%82%C2%82%C3%83%C2%82%C3%82%C2%82%C3%83%C2%83%C3%82%C2%83%C3%83%C2%82%C3%82%C2%83%C3%83%C2%83%C3%82%C2%82%C3%83%C2%82%C3%82%C2%82%C3%83%C2%83%C3%82%C2%83%C3%83%C2%82%C3%82%C2%82%C3%83%C2%83%C3%82%C2%82%C3%83%C2%82%C3%82%C2%B8y&vis_o_id=5 \n",
      "\n",
      "\n",
      "Om \"Landbruket på Innherred\"\n",
      "\"Landbruket på Innherred\" er eit prosjekt der \"utviklingen i omfang og betydning av landbruket i regionen synliggjøres, blant annet i forhold til antall gårdsbruk, produksjonsomfang, antall sysselsatte/årsverk, verdiskaping og ringvirkninger i ulike produksjoner. Det har også vært et ønske å synliggjøre skogbrukets betydning, og betydning av andre landbruksbaserte næringer (tilleggsnæringer).\"\n",
      "Kommunal forvaltning, tillitsvalde i landbruksnæringa og andre aktørar knytta til næringa har behov for dokumentasjon som kan synleggjera landbruket har å seie, situasjon og utviklingstrekk på kommunalt og regionalt nivå. Det er behov for dokumentasjon overfor\n",
      "kommunal forvaltning\n",
      "landbruket sine tillitsvalde, som møter politikarar, ungdom (i forhold til rekrutteringsarbeid), bønder (for å setja fokus på samanhengane langs verdikjeder og for å motivera til auka verdiskaping)\n",
      "andre næringar\n",
      "Landbruksforum for Innherredskommunane ynsker òg å setja fokus på felles utfordringar for landbruket i regionen og styrka samarbeidet over tradisjonelle bygde- og kommunegrenser. For kommunane er det òg interessant å kunne samanlikna seg med kvarandre.\n",
      "Dette er utskriftsversjon av https://www.landbruksforum.no/innherred/info/?lang=nyn&vis=landbruksdata&tema_id=14&spm_id=23&viskommune=inder%C3%83%C2%83%C3%82%C2%83%C3%83%C2%82%C3%82%C2%83%C3%83%C2%83%C3%82%C2%82%C3%83%C2%82%C3%82%C2%83%C3%83%C2%83%C3%82%C2%83%C3%83%C2%82%C3%82%C2%82%C3%83%C2%83%C3%82%C2%82%C3%83%C2%82%C3%82%C2%83%C3%83%C2%83%C3%82%C2%83%C3%83%C2%82%C3%82%C2%83%C3%83%C2%83%C3%82%C2%82%C3%83%C2%82%C3%82%C2%82%C3%83%C2%83%C3%82%C2%83%C3%83%C2%82%C3%82%C2%82%C3%83%C2%83%C3%82%C2%82%C3%83%C2%82%C3%82%C2%83%C3%83%C2%83%C3%82%C2%83%C3%83%C2%82%C3%82%C2%83%C3%83%C2%83%C3%82%C2%82%C3%83%C2%82%C3%82%C2%83%C3%83%C2%83%C3%82%C2%83%C3%83%C2%82%C3%82%C2%82%C3%83%C2%83%C3%82%C2%82%C3%83%C2%82%C3%82%C2%82%C3%83%C2%83%C3%82%C2%83%C3%83%C2%82%C3%82%C2%83%C3%83%C2%83%C3%82%C2%82%C3%83%C2%82%C3%82%C2%82%C3%83%C2%83%C3%82%C2%83%C3%83%C2%82%C3%82%C2%82%C3%83%C2%83%C3%82%C2%82%C3%83%C2%82%C3%82%C2%83%C3%83%C2%83%C3%82%C2%83%C3%83%C2%82%C3%82%C2%83%C3%83%C2%83%C3%82%C2%82%C3%83%C2%82%C3%82%C2%83%C3%83%C2%83%C3%82%C2%83%C3%83%C2%82%C3%82%C2%82%C3%83%C2%83%C3%82%C2%82%C3%83%C2%82%C3%82%C2%83%C3%83%C2%83%C3%82%C2%83%C3%83%C2%82%C3%82%C2%83%C3%83%C2%83%C3%82%C2%82%C3%83%C2%82%C3%82%C2%82%C3%83%C2%83%C3%82%C2%83%C3%83%C2%82%C3%82%C2%82%C3%83%C2%83%C3%82%C2%82%C3%83%C2%82%C3%82%C2%82%C3%83%C2%83%C3%82%C2%83%C3%83%C2%82%C3%82%C2%83%C3%83%C2%83%C3%82%C2%82%C3%83%C2%82%C3%82%C2%83%C3%83%C2%83%C3%82%C2%83%C3%83%C2%82%C3%82%C2%82%C3%83%C2%83%C3%82%C2%82%C3%83%C2%82%C3%82%C2%82%C3%83%C2%83%C3%82%C2%83%C3%83%C2%82%C3%82%C2%83%C3%83%C2%83%C3%82%C2%82%C3%83%C2%82%C3%82%C2%82%C3%83%C2%83%C3%82%C2%83%C3%83%C2%82%C3%82%C2%82%C3%83%C2%83%C3%82%C2%82%C3%83%C2%82%C3%82%C2%83%C3%83%C2%83%C3%82%C2%83%C3%83%C2%82%C3%82%C2%83%C3%83%C2%83%C3%82%C2%82%C3%83%C2%82%C3%82%C2%83%C3%83%C2%83%C3%82%C2%83%C3%83%C2%82%C3%82%C2%82%C3%83%C2%83%C3%82%C2%82%C3%83%C2%82%C3%82%C2%83%C3%83%C2%83%C3%82%C2%83%C3%83%C2%82%C3%82%C2%83%C3%83%C2%83%C3%82%C2%82%C3%83%C2%82%C3%82%C2%82%C3%83%C2%83%C3%82%C2%83%C3%83%C2%82%C3%82%C2%82%C3%83%C2%83%C3%82%C2%82%C3%83%C2%82%C3%82%C2%83%C3%83%C2%83%C3%82%C2%83%C3%83%C2%82%C3%82%C2%83%C3%83%C2%83%C3%82%C2%82%C3%83%C2%82%C3%82%C2%83%C3%83%C2%83%C3%82%C2%83%C3%83%C2%82%C3%82%C2%82%C3%83%C2%83%C3%82%C2%82%C3%83%C2%82%C3%82%C2%82%C3%83%C2%83%C3%82%C2%83%C3%83%C2%82%C3%82%C2%83%C3%83%C2%83%C3%82%C2%82%C3%83%C2%82%C3%82%C2%82%C3%83%C2%83%C3%82%C2%83%C3%83%C2%82%C3%82%C2%82%C3%83%C2%83%C3%82%C2%82%C3%83%C2%82%C3%82%C2%82%C3%83%C2%83%C3%82%C2%83%C3%83%C2%82%C3%82%C2%83%C3%83%C2%83%C3%82%C2%82%C3%83%C2%82%C3%82%C2%83%C3%83%C2%83%C3%82%C2%83%C3%83%C2%82%C3%82%C2%82%C3%83%C2%83%C3%82%C2%82%C3%83%C2%82%C3%82%C2%83%C3%83%C2%83%C3%82%C2%83%C3%83%C2%82%C3%82%C2%83%C3%83%C2%83%C3%82%C2%82%C3%83%C2%82%C3%82%C2%82%C3%83%C2%83%C3%82%C2%83%C3%83%C2%82%C3%82%C2%82%C3%83%C2%83%C3%82%C2%82%C3%83%C2%82%C3%82%C2%82%C3%83%C2%83%C3%82%C2%83%C3%83%C2%82%C3%82%C2%83%C3%83%C2%83%C3%82%C2%82%C3%83%C2%82%C3%82%C2%83%C3%83%C2%83%C3%82%C2%83%C3%83%C2%82%C3%82%C2%82%C3%83%C2%83%C3%82%C2%82%C3%83%C2%82%C3%82%C2%82%C3%83%C2%83%C3%82%C2%83%C3%83%C2%82%C3%82%C2%83%C3%83%C2%83%C3%82%C2%82%C3%83%C2%82%C3%82%C2%82%C3%83%C2%83%C3%82%C2%83%C3%83%C2%82%C3%82%C2%82%C3%83%C2%83%C3%82%C2%82%C3%83%C2%82%C3%82%C2%B8y&vis_o_id=5 \n",
      "\n",
      "\n"
     ]
    }
   ],
   "source": [
    "for x in dupli_texts.fulltext:\n",
    "    print(x, \"\\n\\n\")"
   ]
  },
  {
   "cell_type": "code",
   "execution_count": null,
   "metadata": {},
   "outputs": [],
   "source": []
  }
 ],
 "metadata": {
  "interpreter": {
   "hash": "db334dff8f1c5d7e42c8d4204e45191c3023c058706673d1df80c18ef4a1d853"
  },
  "kernelspec": {
   "display_name": "Python 3.8.10 ('env38': venv)",
   "language": "python",
   "name": "python3"
  },
  "language_info": {
   "codemirror_mode": {
    "name": "ipython",
    "version": 3
   },
   "file_extension": ".py",
   "mimetype": "text/x-python",
   "name": "python",
   "nbconvert_exporter": "python",
   "pygments_lexer": "ipython3",
   "version": "3.9.7"
  },
  "orig_nbformat": 4
 },
 "nbformat": 4,
 "nbformat_minor": 2
}
